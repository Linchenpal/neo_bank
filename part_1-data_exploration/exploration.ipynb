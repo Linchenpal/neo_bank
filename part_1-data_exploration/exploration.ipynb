{
 "cells": [
  {
   "cell_type": "markdown",
   "id": "8422af05",
   "metadata": {},
   "source": [
    "# Import Packages "
   ]
  },
  {
   "cell_type": "code",
   "execution_count": null,
   "id": "b83244ad",
   "metadata": {},
   "outputs": [
    {
     "name": "stdout",
     "output_type": "stream",
     "text": [
      "/home/denizgokalp.5/code/mitchell5/neo_bank/part_1-data_exploration/.venv/bin/python\n"
     ]
    }
   ],
   "source": [
    "import sys\n",
    "print(sys.executable)\n"
   ]
  },
  {
   "cell_type": "code",
   "execution_count": 1,
   "id": "643c6615",
   "metadata": {},
   "outputs": [],
   "source": [
    "#import data\n",
    "import pandas as pd\n",
    "import great_expectations as gx\n",
    "import os"
   ]
  },
  {
   "cell_type": "markdown",
   "id": "00047ff5",
   "metadata": {},
   "source": [
    "# Importing Data, Quick Look Through"
   ]
  },
  {
   "cell_type": "markdown",
   "id": "1fe2c745",
   "metadata": {},
   "source": [
    "## Devices"
   ]
  },
  {
   "cell_type": "code",
   "execution_count": null,
   "id": "137da4c1",
   "metadata": {},
   "outputs": [
    {
     "data": {
      "text/html": [
       "<div>\n",
       "<style scoped>\n",
       "    .dataframe tbody tr th:only-of-type {\n",
       "        vertical-align: middle;\n",
       "    }\n",
       "\n",
       "    .dataframe tbody tr th {\n",
       "        vertical-align: top;\n",
       "    }\n",
       "\n",
       "    .dataframe thead th {\n",
       "        text-align: right;\n",
       "    }\n",
       "</style>\n",
       "<table border=\"1\" class=\"dataframe\">\n",
       "  <thead>\n",
       "    <tr style=\"text-align: right;\">\n",
       "      <th></th>\n",
       "      <th>string_field_0</th>\n",
       "      <th>string_field_1</th>\n",
       "    </tr>\n",
       "  </thead>\n",
       "  <tbody>\n",
       "    <tr>\n",
       "      <th>0</th>\n",
       "      <td>Apple</td>\n",
       "      <td>user_6809</td>\n",
       "    </tr>\n",
       "    <tr>\n",
       "      <th>1</th>\n",
       "      <td>Apple</td>\n",
       "      <td>user_3636</td>\n",
       "    </tr>\n",
       "    <tr>\n",
       "      <th>2</th>\n",
       "      <td>Apple</td>\n",
       "      <td>user_510</td>\n",
       "    </tr>\n",
       "    <tr>\n",
       "      <th>3</th>\n",
       "      <td>Apple</td>\n",
       "      <td>user_3468</td>\n",
       "    </tr>\n",
       "    <tr>\n",
       "      <th>4</th>\n",
       "      <td>Apple</td>\n",
       "      <td>user_7036</td>\n",
       "    </tr>\n",
       "  </tbody>\n",
       "</table>\n",
       "</div>"
      ],
      "text/plain": [
       "  string_field_0 string_field_1\n",
       "0          Apple      user_6809\n",
       "1          Apple      user_3636\n",
       "2          Apple       user_510\n",
       "3          Apple      user_3468\n",
       "4          Apple      user_7036"
      ]
     },
     "execution_count": 2,
     "metadata": {},
     "output_type": "execute_result"
    }
   ],
   "source": [
    "devices=pd.read_csv(\"/home/eberniczky/code/neo_bank/data/raw/devices.csv\")\n",
    "devices.head()"
   ]
  },
  {
   "cell_type": "code",
   "execution_count": 3,
   "id": "4ad5b670",
   "metadata": {},
   "outputs": [
    {
     "data": {
      "text/plain": [
       "19431"
      ]
     },
     "execution_count": 3,
     "metadata": {},
     "output_type": "execute_result"
    }
   ],
   "source": [
    "len(devices)"
   ]
  },
  {
   "cell_type": "code",
   "execution_count": 4,
   "id": "e8caccb6",
   "metadata": {},
   "outputs": [],
   "source": [
    "devices=devices.drop_duplicates()"
   ]
  },
  {
   "cell_type": "code",
   "execution_count": 5,
   "id": "7e00b2db",
   "metadata": {},
   "outputs": [
    {
     "data": {
      "text/plain": [
       "19431"
      ]
     },
     "execution_count": 5,
     "metadata": {},
     "output_type": "execute_result"
    }
   ],
   "source": [
    "len(devices)"
   ]
  },
  {
   "cell_type": "code",
   "execution_count": 6,
   "id": "7fc57023",
   "metadata": {},
   "outputs": [
    {
     "data": {
      "text/html": [
       "<div>\n",
       "<style scoped>\n",
       "    .dataframe tbody tr th:only-of-type {\n",
       "        vertical-align: middle;\n",
       "    }\n",
       "\n",
       "    .dataframe tbody tr th {\n",
       "        vertical-align: top;\n",
       "    }\n",
       "\n",
       "    .dataframe thead th {\n",
       "        text-align: right;\n",
       "    }\n",
       "</style>\n",
       "<table border=\"1\" class=\"dataframe\">\n",
       "  <thead>\n",
       "    <tr style=\"text-align: right;\">\n",
       "      <th></th>\n",
       "      <th>string_field_0</th>\n",
       "      <th>string_field_1</th>\n",
       "    </tr>\n",
       "  </thead>\n",
       "  <tbody>\n",
       "    <tr>\n",
       "      <th>count</th>\n",
       "      <td>19431</td>\n",
       "      <td>19431</td>\n",
       "    </tr>\n",
       "    <tr>\n",
       "      <th>unique</th>\n",
       "      <td>4</td>\n",
       "      <td>19431</td>\n",
       "    </tr>\n",
       "    <tr>\n",
       "      <th>top</th>\n",
       "      <td>Android</td>\n",
       "      <td>user_6809</td>\n",
       "    </tr>\n",
       "    <tr>\n",
       "      <th>freq</th>\n",
       "      <td>9714</td>\n",
       "      <td>1</td>\n",
       "    </tr>\n",
       "  </tbody>\n",
       "</table>\n",
       "</div>"
      ],
      "text/plain": [
       "       string_field_0 string_field_1\n",
       "count           19431          19431\n",
       "unique              4          19431\n",
       "top           Android      user_6809\n",
       "freq             9714              1"
      ]
     },
     "execution_count": 6,
     "metadata": {},
     "output_type": "execute_result"
    }
   ],
   "source": [
    "devices.describe()"
   ]
  },
  {
   "cell_type": "code",
   "execution_count": 7,
   "id": "7df64883",
   "metadata": {},
   "outputs": [],
   "source": [
    "devices.rename(columns={\n",
    "    \"string_field_0\": \"device_type\",\n",
    "    \"string_field_1\": \"user_id\"\n",
    "},inplace=True)"
   ]
  },
  {
   "cell_type": "code",
   "execution_count": 8,
   "id": "b22b7178",
   "metadata": {},
   "outputs": [],
   "source": [
    "devices['user_id'] = devices['user_id'].str.lstrip('user_')"
   ]
  },
  {
   "cell_type": "code",
   "execution_count": 9,
   "id": "106cbf97",
   "metadata": {},
   "outputs": [
    {
     "data": {
      "text/html": [
       "<div>\n",
       "<style scoped>\n",
       "    .dataframe tbody tr th:only-of-type {\n",
       "        vertical-align: middle;\n",
       "    }\n",
       "\n",
       "    .dataframe tbody tr th {\n",
       "        vertical-align: top;\n",
       "    }\n",
       "\n",
       "    .dataframe thead th {\n",
       "        text-align: right;\n",
       "    }\n",
       "</style>\n",
       "<table border=\"1\" class=\"dataframe\">\n",
       "  <thead>\n",
       "    <tr style=\"text-align: right;\">\n",
       "      <th></th>\n",
       "      <th>device_type</th>\n",
       "      <th>user_id</th>\n",
       "    </tr>\n",
       "  </thead>\n",
       "  <tbody>\n",
       "    <tr>\n",
       "      <th>0</th>\n",
       "      <td>Apple</td>\n",
       "      <td>6809</td>\n",
       "    </tr>\n",
       "    <tr>\n",
       "      <th>1</th>\n",
       "      <td>Apple</td>\n",
       "      <td>3636</td>\n",
       "    </tr>\n",
       "    <tr>\n",
       "      <th>2</th>\n",
       "      <td>Apple</td>\n",
       "      <td>510</td>\n",
       "    </tr>\n",
       "    <tr>\n",
       "      <th>3</th>\n",
       "      <td>Apple</td>\n",
       "      <td>3468</td>\n",
       "    </tr>\n",
       "    <tr>\n",
       "      <th>4</th>\n",
       "      <td>Apple</td>\n",
       "      <td>7036</td>\n",
       "    </tr>\n",
       "  </tbody>\n",
       "</table>\n",
       "</div>"
      ],
      "text/plain": [
       "  device_type user_id\n",
       "0       Apple    6809\n",
       "1       Apple    3636\n",
       "2       Apple     510\n",
       "3       Apple    3468\n",
       "4       Apple    7036"
      ]
     },
     "execution_count": 9,
     "metadata": {},
     "output_type": "execute_result"
    }
   ],
   "source": [
    "devices.head()"
   ]
  },
  {
   "cell_type": "markdown",
   "id": "6f10b298",
   "metadata": {},
   "source": [
    "## Transactions "
   ]
  },
  {
   "cell_type": "code",
   "execution_count": 10,
   "id": "e031fe59",
   "metadata": {},
   "outputs": [],
   "source": [
    "# # very big file, will use parquet\n",
    "# csv_path = \"/home/neobanking2025/projects/neo_bank/data/raw/transactions.csv\"\n",
    "# parquet_path = \"/home/neobanking2025/projects/neo_bank/data/raw/transactions.parquet\"\n",
    "\n",
    "# if os.path.exists(parquet_path):\n",
    "#     # Load from Parquet cache — fast!\n",
    "#     trans = pd.read_parquet(parquet_path)\n",
    "# else:\n",
    "#     # First time: read CSV (slow)\n",
    "#     trans = pd.read_csv(csv_path)\n",
    "#     # Save cache to Parquet for next time\n",
    "#     trans.to_parquet(parquet_path, index=False)"
   ]
  },
  {
   "cell_type": "code",
   "execution_count": null,
   "metadata": {},
   "outputs": [],
   "source": [
    "# very big file, will use parquet\n",
    "parquet_path = \"/home/eberniczky/code/neo_bank/data/raw/transactions.parquet\"\n",
    "\n",
    "trans = pd.read_parquet(parquet_path)"
   ]
  },
  {
   "cell_type": "code",
   "execution_count": 13,
   "id": "90f901e1",
   "metadata": {},
   "outputs": [
    {
     "data": {
      "text/html": [
       "<div>\n",
       "<style scoped>\n",
       "    .dataframe tbody tr th:only-of-type {\n",
       "        vertical-align: middle;\n",
       "    }\n",
       "\n",
       "    .dataframe tbody tr th {\n",
       "        vertical-align: top;\n",
       "    }\n",
       "\n",
       "    .dataframe thead th {\n",
       "        text-align: right;\n",
       "    }\n",
       "</style>\n",
       "<table border=\"1\" class=\"dataframe\">\n",
       "  <thead>\n",
       "    <tr style=\"text-align: right;\">\n",
       "      <th></th>\n",
       "      <th>transaction_id</th>\n",
       "      <th>transactions_type</th>\n",
       "      <th>transactions_currency</th>\n",
       "      <th>amount_usd</th>\n",
       "      <th>transactions_state</th>\n",
       "      <th>ea_cardholderpresence</th>\n",
       "      <th>ea_merchant_mcc</th>\n",
       "      <th>ea_merchant_city</th>\n",
       "      <th>ea_merchant_country</th>\n",
       "      <th>direction</th>\n",
       "      <th>user_id</th>\n",
       "      <th>created_date</th>\n",
       "    </tr>\n",
       "  </thead>\n",
       "  <tbody>\n",
       "    <tr>\n",
       "      <th>0</th>\n",
       "      <td>transaction_1884</td>\n",
       "      <td>REFUND</td>\n",
       "      <td>AED</td>\n",
       "      <td>1.76</td>\n",
       "      <td>COMPLETED</td>\n",
       "      <td>None</td>\n",
       "      <td>NaN</td>\n",
       "      <td>None</td>\n",
       "      <td>None</td>\n",
       "      <td>INBOUND</td>\n",
       "      <td>user_8098</td>\n",
       "      <td>2018-09-25 16:03:40.978243 UTC</td>\n",
       "    </tr>\n",
       "    <tr>\n",
       "      <th>1</th>\n",
       "      <td>transaction_1728</td>\n",
       "      <td>REFUND</td>\n",
       "      <td>AED</td>\n",
       "      <td>639.31</td>\n",
       "      <td>COMPLETED</td>\n",
       "      <td>None</td>\n",
       "      <td>NaN</td>\n",
       "      <td>None</td>\n",
       "      <td>None</td>\n",
       "      <td>INBOUND</td>\n",
       "      <td>user_182</td>\n",
       "      <td>2018-03-31 13:45:25.262231 UTC</td>\n",
       "    </tr>\n",
       "    <tr>\n",
       "      <th>2</th>\n",
       "      <td>transaction_1755782</td>\n",
       "      <td>REFUND</td>\n",
       "      <td>AED</td>\n",
       "      <td>3.49</td>\n",
       "      <td>COMPLETED</td>\n",
       "      <td>None</td>\n",
       "      <td>NaN</td>\n",
       "      <td>None</td>\n",
       "      <td>None</td>\n",
       "      <td>INBOUND</td>\n",
       "      <td>user_14271</td>\n",
       "      <td>2018-11-17 16:47:25.748975 UTC</td>\n",
       "    </tr>\n",
       "    <tr>\n",
       "      <th>3</th>\n",
       "      <td>transaction_1973</td>\n",
       "      <td>TOPUP</td>\n",
       "      <td>AED</td>\n",
       "      <td>6079.39</td>\n",
       "      <td>COMPLETED</td>\n",
       "      <td>None</td>\n",
       "      <td>NaN</td>\n",
       "      <td>None</td>\n",
       "      <td>None</td>\n",
       "      <td>INBOUND</td>\n",
       "      <td>user_4773</td>\n",
       "      <td>2018-08-13 21:51:28.670363 UTC</td>\n",
       "    </tr>\n",
       "    <tr>\n",
       "      <th>4</th>\n",
       "      <td>transaction_1716</td>\n",
       "      <td>TOPUP</td>\n",
       "      <td>AED</td>\n",
       "      <td>206.65</td>\n",
       "      <td>COMPLETED</td>\n",
       "      <td>None</td>\n",
       "      <td>NaN</td>\n",
       "      <td>None</td>\n",
       "      <td>None</td>\n",
       "      <td>INBOUND</td>\n",
       "      <td>user_1363</td>\n",
       "      <td>2018-10-30 14:34:57.479895 UTC</td>\n",
       "    </tr>\n",
       "  </tbody>\n",
       "</table>\n",
       "</div>"
      ],
      "text/plain": [
       "        transaction_id transactions_type transactions_currency  amount_usd  \\\n",
       "0     transaction_1884            REFUND                   AED        1.76   \n",
       "1     transaction_1728            REFUND                   AED      639.31   \n",
       "2  transaction_1755782            REFUND                   AED        3.49   \n",
       "3     transaction_1973             TOPUP                   AED     6079.39   \n",
       "4     transaction_1716             TOPUP                   AED      206.65   \n",
       "\n",
       "  transactions_state ea_cardholderpresence  ea_merchant_mcc ea_merchant_city  \\\n",
       "0          COMPLETED                  None              NaN             None   \n",
       "1          COMPLETED                  None              NaN             None   \n",
       "2          COMPLETED                  None              NaN             None   \n",
       "3          COMPLETED                  None              NaN             None   \n",
       "4          COMPLETED                  None              NaN             None   \n",
       "\n",
       "  ea_merchant_country direction     user_id                    created_date  \n",
       "0                None   INBOUND   user_8098  2018-09-25 16:03:40.978243 UTC  \n",
       "1                None   INBOUND    user_182  2018-03-31 13:45:25.262231 UTC  \n",
       "2                None   INBOUND  user_14271  2018-11-17 16:47:25.748975 UTC  \n",
       "3                None   INBOUND   user_4773  2018-08-13 21:51:28.670363 UTC  \n",
       "4                None   INBOUND   user_1363  2018-10-30 14:34:57.479895 UTC  "
      ]
     },
     "execution_count": 13,
     "metadata": {},
     "output_type": "execute_result"
    }
   ],
   "source": [
    "trans.head()"
   ]
  },
  {
   "cell_type": "code",
   "execution_count": 14,
   "id": "79eceacc",
   "metadata": {},
   "outputs": [
    {
     "data": {
      "text/plain": [
       "2740075"
      ]
     },
     "execution_count": 14,
     "metadata": {},
     "output_type": "execute_result"
    }
   ],
   "source": [
    "len(trans)"
   ]
  },
  {
   "cell_type": "code",
   "execution_count": 15,
   "id": "c5379118",
   "metadata": {},
   "outputs": [],
   "source": [
    "trans=trans.drop_duplicates()"
   ]
  },
  {
   "cell_type": "code",
   "execution_count": 16,
   "id": "cea62d94",
   "metadata": {},
   "outputs": [
    {
     "data": {
      "text/plain": [
       "2740075"
      ]
     },
     "execution_count": 16,
     "metadata": {},
     "output_type": "execute_result"
    }
   ],
   "source": [
    "len(trans)"
   ]
  },
  {
   "cell_type": "code",
   "execution_count": 17,
   "id": "27864db6",
   "metadata": {},
   "outputs": [
    {
     "data": {
      "text/html": [
       "<div>\n",
       "<style scoped>\n",
       "    .dataframe tbody tr th:only-of-type {\n",
       "        vertical-align: middle;\n",
       "    }\n",
       "\n",
       "    .dataframe tbody tr th {\n",
       "        vertical-align: top;\n",
       "    }\n",
       "\n",
       "    .dataframe thead th {\n",
       "        text-align: right;\n",
       "    }\n",
       "</style>\n",
       "<table border=\"1\" class=\"dataframe\">\n",
       "  <thead>\n",
       "    <tr style=\"text-align: right;\">\n",
       "      <th></th>\n",
       "      <th>amount_usd</th>\n",
       "      <th>ea_merchant_mcc</th>\n",
       "    </tr>\n",
       "  </thead>\n",
       "  <tbody>\n",
       "    <tr>\n",
       "      <th>count</th>\n",
       "      <td>2.740075e+06</td>\n",
       "      <td>1.581417e+06</td>\n",
       "    </tr>\n",
       "    <tr>\n",
       "      <th>mean</th>\n",
       "      <td>1.703225e+05</td>\n",
       "      <td>5.699736e+03</td>\n",
       "    </tr>\n",
       "    <tr>\n",
       "      <th>std</th>\n",
       "      <td>9.634014e+07</td>\n",
       "      <td>9.493660e+02</td>\n",
       "    </tr>\n",
       "    <tr>\n",
       "      <th>min</th>\n",
       "      <td>0.000000e+00</td>\n",
       "      <td>7.420000e+02</td>\n",
       "    </tr>\n",
       "    <tr>\n",
       "      <th>25%</th>\n",
       "      <td>2.030000e+00</td>\n",
       "      <td>5.411000e+03</td>\n",
       "    </tr>\n",
       "    <tr>\n",
       "      <th>50%</th>\n",
       "      <td>8.510000e+00</td>\n",
       "      <td>5.812000e+03</td>\n",
       "    </tr>\n",
       "    <tr>\n",
       "      <th>75%</th>\n",
       "      <td>2.822000e+01</td>\n",
       "      <td>5.921000e+03</td>\n",
       "    </tr>\n",
       "    <tr>\n",
       "      <th>max</th>\n",
       "      <td>8.510645e+10</td>\n",
       "      <td>9.406000e+03</td>\n",
       "    </tr>\n",
       "  </tbody>\n",
       "</table>\n",
       "</div>"
      ],
      "text/plain": [
       "         amount_usd  ea_merchant_mcc\n",
       "count  2.740075e+06     1.581417e+06\n",
       "mean   1.703225e+05     5.699736e+03\n",
       "std    9.634014e+07     9.493660e+02\n",
       "min    0.000000e+00     7.420000e+02\n",
       "25%    2.030000e+00     5.411000e+03\n",
       "50%    8.510000e+00     5.812000e+03\n",
       "75%    2.822000e+01     5.921000e+03\n",
       "max    8.510645e+10     9.406000e+03"
      ]
     },
     "execution_count": 17,
     "metadata": {},
     "output_type": "execute_result"
    }
   ],
   "source": [
    "trans.describe()"
   ]
  },
  {
   "cell_type": "code",
   "execution_count": 18,
   "id": "678610eb",
   "metadata": {},
   "outputs": [],
   "source": [
    "trans['transaction_id'] = trans['transaction_id'].str.lstrip('transaction_')"
   ]
  },
  {
   "cell_type": "code",
   "execution_count": 19,
   "metadata": {},
   "outputs": [],
   "source": [
    "trans['user_id'] = trans['user_id'].str.lstrip('user_')"
   ]
  },
  {
   "cell_type": "code",
   "execution_count": 20,
   "id": "606e0e46",
   "metadata": {},
   "outputs": [
    {
     "data": {
      "text/html": [
       "<div>\n",
       "<style scoped>\n",
       "    .dataframe tbody tr th:only-of-type {\n",
       "        vertical-align: middle;\n",
       "    }\n",
       "\n",
       "    .dataframe tbody tr th {\n",
       "        vertical-align: top;\n",
       "    }\n",
       "\n",
       "    .dataframe thead th {\n",
       "        text-align: right;\n",
       "    }\n",
       "</style>\n",
       "<table border=\"1\" class=\"dataframe\">\n",
       "  <thead>\n",
       "    <tr style=\"text-align: right;\">\n",
       "      <th></th>\n",
       "      <th>transaction_id</th>\n",
       "      <th>transactions_type</th>\n",
       "      <th>transactions_currency</th>\n",
       "      <th>amount_usd</th>\n",
       "      <th>transactions_state</th>\n",
       "      <th>ea_cardholderpresence</th>\n",
       "      <th>ea_merchant_mcc</th>\n",
       "      <th>ea_merchant_city</th>\n",
       "      <th>ea_merchant_country</th>\n",
       "      <th>direction</th>\n",
       "      <th>user_id</th>\n",
       "      <th>created_date</th>\n",
       "    </tr>\n",
       "  </thead>\n",
       "  <tbody>\n",
       "    <tr>\n",
       "      <th>0</th>\n",
       "      <td>1884</td>\n",
       "      <td>REFUND</td>\n",
       "      <td>AED</td>\n",
       "      <td>1.76</td>\n",
       "      <td>COMPLETED</td>\n",
       "      <td>None</td>\n",
       "      <td>NaN</td>\n",
       "      <td>None</td>\n",
       "      <td>None</td>\n",
       "      <td>INBOUND</td>\n",
       "      <td>8098</td>\n",
       "      <td>2018-09-25 16:03:40.978243 UTC</td>\n",
       "    </tr>\n",
       "    <tr>\n",
       "      <th>1</th>\n",
       "      <td>1728</td>\n",
       "      <td>REFUND</td>\n",
       "      <td>AED</td>\n",
       "      <td>639.31</td>\n",
       "      <td>COMPLETED</td>\n",
       "      <td>None</td>\n",
       "      <td>NaN</td>\n",
       "      <td>None</td>\n",
       "      <td>None</td>\n",
       "      <td>INBOUND</td>\n",
       "      <td>182</td>\n",
       "      <td>2018-03-31 13:45:25.262231 UTC</td>\n",
       "    </tr>\n",
       "    <tr>\n",
       "      <th>2</th>\n",
       "      <td>1755782</td>\n",
       "      <td>REFUND</td>\n",
       "      <td>AED</td>\n",
       "      <td>3.49</td>\n",
       "      <td>COMPLETED</td>\n",
       "      <td>None</td>\n",
       "      <td>NaN</td>\n",
       "      <td>None</td>\n",
       "      <td>None</td>\n",
       "      <td>INBOUND</td>\n",
       "      <td>14271</td>\n",
       "      <td>2018-11-17 16:47:25.748975 UTC</td>\n",
       "    </tr>\n",
       "    <tr>\n",
       "      <th>3</th>\n",
       "      <td>1973</td>\n",
       "      <td>TOPUP</td>\n",
       "      <td>AED</td>\n",
       "      <td>6079.39</td>\n",
       "      <td>COMPLETED</td>\n",
       "      <td>None</td>\n",
       "      <td>NaN</td>\n",
       "      <td>None</td>\n",
       "      <td>None</td>\n",
       "      <td>INBOUND</td>\n",
       "      <td>4773</td>\n",
       "      <td>2018-08-13 21:51:28.670363 UTC</td>\n",
       "    </tr>\n",
       "    <tr>\n",
       "      <th>4</th>\n",
       "      <td>1716</td>\n",
       "      <td>TOPUP</td>\n",
       "      <td>AED</td>\n",
       "      <td>206.65</td>\n",
       "      <td>COMPLETED</td>\n",
       "      <td>None</td>\n",
       "      <td>NaN</td>\n",
       "      <td>None</td>\n",
       "      <td>None</td>\n",
       "      <td>INBOUND</td>\n",
       "      <td>1363</td>\n",
       "      <td>2018-10-30 14:34:57.479895 UTC</td>\n",
       "    </tr>\n",
       "  </tbody>\n",
       "</table>\n",
       "</div>"
      ],
      "text/plain": [
       "  transaction_id transactions_type transactions_currency  amount_usd  \\\n",
       "0           1884            REFUND                   AED        1.76   \n",
       "1           1728            REFUND                   AED      639.31   \n",
       "2        1755782            REFUND                   AED        3.49   \n",
       "3           1973             TOPUP                   AED     6079.39   \n",
       "4           1716             TOPUP                   AED      206.65   \n",
       "\n",
       "  transactions_state ea_cardholderpresence  ea_merchant_mcc ea_merchant_city  \\\n",
       "0          COMPLETED                  None              NaN             None   \n",
       "1          COMPLETED                  None              NaN             None   \n",
       "2          COMPLETED                  None              NaN             None   \n",
       "3          COMPLETED                  None              NaN             None   \n",
       "4          COMPLETED                  None              NaN             None   \n",
       "\n",
       "  ea_merchant_country direction user_id                    created_date  \n",
       "0                None   INBOUND    8098  2018-09-25 16:03:40.978243 UTC  \n",
       "1                None   INBOUND     182  2018-03-31 13:45:25.262231 UTC  \n",
       "2                None   INBOUND   14271  2018-11-17 16:47:25.748975 UTC  \n",
       "3                None   INBOUND    4773  2018-08-13 21:51:28.670363 UTC  \n",
       "4                None   INBOUND    1363  2018-10-30 14:34:57.479895 UTC  "
      ]
     },
     "execution_count": 20,
     "metadata": {},
     "output_type": "execute_result"
    }
   ],
   "source": [
    "trans.head()"
   ]
  },
  {
   "cell_type": "markdown",
   "id": "fc76c754",
   "metadata": {},
   "source": [
    "## Users"
   ]
  },
  {
   "cell_type": "code",
   "execution_count": null,
   "id": "06e5a67c",
   "metadata": {},
   "outputs": [
    {
     "data": {
      "text/html": [
       "<div>\n",
       "<style scoped>\n",
       "    .dataframe tbody tr th:only-of-type {\n",
       "        vertical-align: middle;\n",
       "    }\n",
       "\n",
       "    .dataframe tbody tr th {\n",
       "        vertical-align: top;\n",
       "    }\n",
       "\n",
       "    .dataframe thead th {\n",
       "        text-align: right;\n",
       "    }\n",
       "</style>\n",
       "<table border=\"1\" class=\"dataframe\">\n",
       "  <thead>\n",
       "    <tr style=\"text-align: right;\">\n",
       "      <th></th>\n",
       "      <th>user_id</th>\n",
       "      <th>birth_year</th>\n",
       "      <th>country</th>\n",
       "      <th>city</th>\n",
       "      <th>created_date</th>\n",
       "      <th>user_settings_crypto_unlocked</th>\n",
       "      <th>plan</th>\n",
       "      <th>attributes_notifications_marketing_push</th>\n",
       "      <th>attributes_notifications_marketing_email</th>\n",
       "      <th>num_contacts</th>\n",
       "      <th>num_referrals</th>\n",
       "      <th>num_successful_referrals</th>\n",
       "    </tr>\n",
       "  </thead>\n",
       "  <tbody>\n",
       "    <tr>\n",
       "      <th>0</th>\n",
       "      <td>user_2811</td>\n",
       "      <td>1988</td>\n",
       "      <td>IE</td>\n",
       "      <td>C</td>\n",
       "      <td>2018-03-04 21:46:39.616834 UTC</td>\n",
       "      <td>0</td>\n",
       "      <td>STANDARD</td>\n",
       "      <td>NaN</td>\n",
       "      <td>NaN</td>\n",
       "      <td>0</td>\n",
       "      <td>0</td>\n",
       "      <td>0</td>\n",
       "    </tr>\n",
       "    <tr>\n",
       "      <th>1</th>\n",
       "      <td>user_4750</td>\n",
       "      <td>1987</td>\n",
       "      <td>FR</td>\n",
       "      <td>Ry</td>\n",
       "      <td>2018-04-07 06:49:18.345736 UTC</td>\n",
       "      <td>0</td>\n",
       "      <td>STANDARD</td>\n",
       "      <td>NaN</td>\n",
       "      <td>NaN</td>\n",
       "      <td>0</td>\n",
       "      <td>0</td>\n",
       "      <td>0</td>\n",
       "    </tr>\n",
       "    <tr>\n",
       "      <th>2</th>\n",
       "      <td>user_17686</td>\n",
       "      <td>1984</td>\n",
       "      <td>GB</td>\n",
       "      <td>Ayr</td>\n",
       "      <td>2018-12-04 10:28:02.653147 UTC</td>\n",
       "      <td>0</td>\n",
       "      <td>PREMIUM</td>\n",
       "      <td>NaN</td>\n",
       "      <td>NaN</td>\n",
       "      <td>6</td>\n",
       "      <td>0</td>\n",
       "      <td>0</td>\n",
       "    </tr>\n",
       "    <tr>\n",
       "      <th>3</th>\n",
       "      <td>user_18779</td>\n",
       "      <td>1965</td>\n",
       "      <td>GB</td>\n",
       "      <td>Ayr</td>\n",
       "      <td>2018-12-31 07:42:19.353613 UTC</td>\n",
       "      <td>0</td>\n",
       "      <td>STANDARD</td>\n",
       "      <td>NaN</td>\n",
       "      <td>NaN</td>\n",
       "      <td>0</td>\n",
       "      <td>0</td>\n",
       "      <td>0</td>\n",
       "    </tr>\n",
       "    <tr>\n",
       "      <th>4</th>\n",
       "      <td>user_7823</td>\n",
       "      <td>1999</td>\n",
       "      <td>PL</td>\n",
       "      <td>Buk</td>\n",
       "      <td>2018-06-07 03:22:40.590209 UTC</td>\n",
       "      <td>0</td>\n",
       "      <td>STANDARD</td>\n",
       "      <td>NaN</td>\n",
       "      <td>NaN</td>\n",
       "      <td>0</td>\n",
       "      <td>0</td>\n",
       "      <td>0</td>\n",
       "    </tr>\n",
       "  </tbody>\n",
       "</table>\n",
       "</div>"
      ],
      "text/plain": [
       "      user_id  birth_year country city                    created_date  \\\n",
       "0   user_2811        1988      IE    C  2018-03-04 21:46:39.616834 UTC   \n",
       "1   user_4750        1987      FR   Ry  2018-04-07 06:49:18.345736 UTC   \n",
       "2  user_17686        1984      GB  Ayr  2018-12-04 10:28:02.653147 UTC   \n",
       "3  user_18779        1965      GB  Ayr  2018-12-31 07:42:19.353613 UTC   \n",
       "4   user_7823        1999      PL  Buk  2018-06-07 03:22:40.590209 UTC   \n",
       "\n",
       "   user_settings_crypto_unlocked      plan  \\\n",
       "0                              0  STANDARD   \n",
       "1                              0  STANDARD   \n",
       "2                              0   PREMIUM   \n",
       "3                              0  STANDARD   \n",
       "4                              0  STANDARD   \n",
       "\n",
       "   attributes_notifications_marketing_push  \\\n",
       "0                                      NaN   \n",
       "1                                      NaN   \n",
       "2                                      NaN   \n",
       "3                                      NaN   \n",
       "4                                      NaN   \n",
       "\n",
       "   attributes_notifications_marketing_email  num_contacts  num_referrals  \\\n",
       "0                                       NaN             0              0   \n",
       "1                                       NaN             0              0   \n",
       "2                                       NaN             6              0   \n",
       "3                                       NaN             0              0   \n",
       "4                                       NaN             0              0   \n",
       "\n",
       "   num_successful_referrals  \n",
       "0                         0  \n",
       "1                         0  \n",
       "2                         0  \n",
       "3                         0  \n",
       "4                         0  "
      ]
     },
     "execution_count": 21,
     "metadata": {},
     "output_type": "execute_result"
    }
   ],
   "source": [
    "users=pd.read_csv(\"/home/eberniczky/code/neo_bank/data/raw/users.csv\")\n",
    "users.head()"
   ]
  },
  {
   "cell_type": "code",
   "execution_count": 22,
   "id": "800837cb",
   "metadata": {},
   "outputs": [
    {
     "data": {
      "text/plain": [
       "19430"
      ]
     },
     "execution_count": 22,
     "metadata": {},
     "output_type": "execute_result"
    }
   ],
   "source": [
    "len(users)"
   ]
  },
  {
   "cell_type": "code",
   "execution_count": 23,
   "id": "dbdb94d3",
   "metadata": {},
   "outputs": [],
   "source": [
    "users=users.drop_duplicates()"
   ]
  },
  {
   "cell_type": "code",
   "execution_count": 24,
   "id": "a42df860",
   "metadata": {},
   "outputs": [
    {
     "data": {
      "text/plain": [
       "19430"
      ]
     },
     "execution_count": 24,
     "metadata": {},
     "output_type": "execute_result"
    }
   ],
   "source": [
    "len(users)"
   ]
  },
  {
   "cell_type": "code",
   "execution_count": 25,
   "id": "6c74a35f",
   "metadata": {},
   "outputs": [],
   "source": [
    "users['user_id'] = users['user_id'].str.lstrip('user_')"
   ]
  },
  {
   "cell_type": "code",
   "execution_count": 26,
   "id": "6b81ebc0",
   "metadata": {},
   "outputs": [
    {
     "data": {
      "text/html": [
       "<div>\n",
       "<style scoped>\n",
       "    .dataframe tbody tr th:only-of-type {\n",
       "        vertical-align: middle;\n",
       "    }\n",
       "\n",
       "    .dataframe tbody tr th {\n",
       "        vertical-align: top;\n",
       "    }\n",
       "\n",
       "    .dataframe thead th {\n",
       "        text-align: right;\n",
       "    }\n",
       "</style>\n",
       "<table border=\"1\" class=\"dataframe\">\n",
       "  <thead>\n",
       "    <tr style=\"text-align: right;\">\n",
       "      <th></th>\n",
       "      <th>user_id</th>\n",
       "      <th>birth_year</th>\n",
       "      <th>country</th>\n",
       "      <th>city</th>\n",
       "      <th>created_date</th>\n",
       "      <th>user_settings_crypto_unlocked</th>\n",
       "      <th>plan</th>\n",
       "      <th>attributes_notifications_marketing_push</th>\n",
       "      <th>attributes_notifications_marketing_email</th>\n",
       "      <th>num_contacts</th>\n",
       "      <th>num_referrals</th>\n",
       "      <th>num_successful_referrals</th>\n",
       "    </tr>\n",
       "  </thead>\n",
       "  <tbody>\n",
       "    <tr>\n",
       "      <th>0</th>\n",
       "      <td>2811</td>\n",
       "      <td>1988</td>\n",
       "      <td>IE</td>\n",
       "      <td>C</td>\n",
       "      <td>2018-03-04 21:46:39.616834 UTC</td>\n",
       "      <td>0</td>\n",
       "      <td>STANDARD</td>\n",
       "      <td>NaN</td>\n",
       "      <td>NaN</td>\n",
       "      <td>0</td>\n",
       "      <td>0</td>\n",
       "      <td>0</td>\n",
       "    </tr>\n",
       "    <tr>\n",
       "      <th>1</th>\n",
       "      <td>4750</td>\n",
       "      <td>1987</td>\n",
       "      <td>FR</td>\n",
       "      <td>Ry</td>\n",
       "      <td>2018-04-07 06:49:18.345736 UTC</td>\n",
       "      <td>0</td>\n",
       "      <td>STANDARD</td>\n",
       "      <td>NaN</td>\n",
       "      <td>NaN</td>\n",
       "      <td>0</td>\n",
       "      <td>0</td>\n",
       "      <td>0</td>\n",
       "    </tr>\n",
       "    <tr>\n",
       "      <th>2</th>\n",
       "      <td>17686</td>\n",
       "      <td>1984</td>\n",
       "      <td>GB</td>\n",
       "      <td>Ayr</td>\n",
       "      <td>2018-12-04 10:28:02.653147 UTC</td>\n",
       "      <td>0</td>\n",
       "      <td>PREMIUM</td>\n",
       "      <td>NaN</td>\n",
       "      <td>NaN</td>\n",
       "      <td>6</td>\n",
       "      <td>0</td>\n",
       "      <td>0</td>\n",
       "    </tr>\n",
       "    <tr>\n",
       "      <th>3</th>\n",
       "      <td>18779</td>\n",
       "      <td>1965</td>\n",
       "      <td>GB</td>\n",
       "      <td>Ayr</td>\n",
       "      <td>2018-12-31 07:42:19.353613 UTC</td>\n",
       "      <td>0</td>\n",
       "      <td>STANDARD</td>\n",
       "      <td>NaN</td>\n",
       "      <td>NaN</td>\n",
       "      <td>0</td>\n",
       "      <td>0</td>\n",
       "      <td>0</td>\n",
       "    </tr>\n",
       "    <tr>\n",
       "      <th>4</th>\n",
       "      <td>7823</td>\n",
       "      <td>1999</td>\n",
       "      <td>PL</td>\n",
       "      <td>Buk</td>\n",
       "      <td>2018-06-07 03:22:40.590209 UTC</td>\n",
       "      <td>0</td>\n",
       "      <td>STANDARD</td>\n",
       "      <td>NaN</td>\n",
       "      <td>NaN</td>\n",
       "      <td>0</td>\n",
       "      <td>0</td>\n",
       "      <td>0</td>\n",
       "    </tr>\n",
       "  </tbody>\n",
       "</table>\n",
       "</div>"
      ],
      "text/plain": [
       "  user_id  birth_year country city                    created_date  \\\n",
       "0    2811        1988      IE    C  2018-03-04 21:46:39.616834 UTC   \n",
       "1    4750        1987      FR   Ry  2018-04-07 06:49:18.345736 UTC   \n",
       "2   17686        1984      GB  Ayr  2018-12-04 10:28:02.653147 UTC   \n",
       "3   18779        1965      GB  Ayr  2018-12-31 07:42:19.353613 UTC   \n",
       "4    7823        1999      PL  Buk  2018-06-07 03:22:40.590209 UTC   \n",
       "\n",
       "   user_settings_crypto_unlocked      plan  \\\n",
       "0                              0  STANDARD   \n",
       "1                              0  STANDARD   \n",
       "2                              0   PREMIUM   \n",
       "3                              0  STANDARD   \n",
       "4                              0  STANDARD   \n",
       "\n",
       "   attributes_notifications_marketing_push  \\\n",
       "0                                      NaN   \n",
       "1                                      NaN   \n",
       "2                                      NaN   \n",
       "3                                      NaN   \n",
       "4                                      NaN   \n",
       "\n",
       "   attributes_notifications_marketing_email  num_contacts  num_referrals  \\\n",
       "0                                       NaN             0              0   \n",
       "1                                       NaN             0              0   \n",
       "2                                       NaN             6              0   \n",
       "3                                       NaN             0              0   \n",
       "4                                       NaN             0              0   \n",
       "\n",
       "   num_successful_referrals  \n",
       "0                         0  \n",
       "1                         0  \n",
       "2                         0  \n",
       "3                         0  \n",
       "4                         0  "
      ]
     },
     "execution_count": 26,
     "metadata": {},
     "output_type": "execute_result"
    }
   ],
   "source": [
    "users.head()"
   ]
  },
  {
   "cell_type": "code",
   "execution_count": 27,
   "metadata": {},
   "outputs": [],
   "source": [
    "# converting date field\n",
    "users['created_date'] = pd.to_datetime(users['created_date'],errors='coerce').dt.tz_localize(None)"
   ]
  },
  {
   "cell_type": "code",
   "execution_count": 28,
   "metadata": {},
   "outputs": [],
   "source": [
    "# convert to int64\n",
    "users['user_id'] = pd.to_numeric(users['user_id'], errors='coerce').astype('Int64')"
   ]
  },
  {
   "cell_type": "code",
   "execution_count": 29,
   "metadata": {},
   "outputs": [
    {
     "data": {
      "text/plain": [
       "user_id                                              Int64\n",
       "birth_year                                           int64\n",
       "country                                             object\n",
       "city                                                object\n",
       "created_date                                datetime64[ns]\n",
       "user_settings_crypto_unlocked                        int64\n",
       "plan                                                object\n",
       "attributes_notifications_marketing_push            float64\n",
       "attributes_notifications_marketing_email           float64\n",
       "num_contacts                                         int64\n",
       "num_referrals                                        int64\n",
       "num_successful_referrals                             int64\n",
       "dtype: object"
      ]
     },
     "execution_count": 29,
     "metadata": {},
     "output_type": "execute_result"
    }
   ],
   "source": [
    "users.dtypes"
   ]
  },
  {
   "cell_type": "markdown",
   "id": "86536f2c",
   "metadata": {},
   "source": [
    "## Notifications"
   ]
  },
  {
   "cell_type": "code",
   "execution_count": null,
   "id": "27addb7e",
   "metadata": {},
   "outputs": [
    {
     "data": {
      "text/html": [
       "<div>\n",
       "<style scoped>\n",
       "    .dataframe tbody tr th:only-of-type {\n",
       "        vertical-align: middle;\n",
       "    }\n",
       "\n",
       "    .dataframe tbody tr th {\n",
       "        vertical-align: top;\n",
       "    }\n",
       "\n",
       "    .dataframe thead th {\n",
       "        text-align: right;\n",
       "    }\n",
       "</style>\n",
       "<table border=\"1\" class=\"dataframe\">\n",
       "  <thead>\n",
       "    <tr style=\"text-align: right;\">\n",
       "      <th></th>\n",
       "      <th>reason</th>\n",
       "      <th>channel</th>\n",
       "      <th>status</th>\n",
       "      <th>user_id</th>\n",
       "      <th>created_date</th>\n",
       "    </tr>\n",
       "  </thead>\n",
       "  <tbody>\n",
       "    <tr>\n",
       "      <th>0</th>\n",
       "      <td>METAL_RESERVE_PLAN</td>\n",
       "      <td>SMS</td>\n",
       "      <td>SENT</td>\n",
       "      <td>user_4703</td>\n",
       "      <td>2018-10-14 01:48:13.319987 UTC</td>\n",
       "    </tr>\n",
       "    <tr>\n",
       "      <th>1</th>\n",
       "      <td>METAL_RESERVE_PLAN</td>\n",
       "      <td>SMS</td>\n",
       "      <td>SENT</td>\n",
       "      <td>user_2397</td>\n",
       "      <td>2018-10-17 08:07:05.709072 UTC</td>\n",
       "    </tr>\n",
       "    <tr>\n",
       "      <th>2</th>\n",
       "      <td>METAL_RESERVE_PLAN</td>\n",
       "      <td>SMS</td>\n",
       "      <td>SENT</td>\n",
       "      <td>user_2411</td>\n",
       "      <td>2018-10-14 03:46:34.244392 UTC</td>\n",
       "    </tr>\n",
       "    <tr>\n",
       "      <th>3</th>\n",
       "      <td>METAL_RESERVE_PLAN</td>\n",
       "      <td>SMS</td>\n",
       "      <td>SENT</td>\n",
       "      <td>user_1119</td>\n",
       "      <td>2018-10-14 14:16:35.801185 UTC</td>\n",
       "    </tr>\n",
       "    <tr>\n",
       "      <th>4</th>\n",
       "      <td>METAL_RESERVE_PLAN</td>\n",
       "      <td>SMS</td>\n",
       "      <td>SENT</td>\n",
       "      <td>user_3499</td>\n",
       "      <td>2018-10-14 18:41:09.268675 UTC</td>\n",
       "    </tr>\n",
       "  </tbody>\n",
       "</table>\n",
       "</div>"
      ],
      "text/plain": [
       "               reason channel status    user_id  \\\n",
       "0  METAL_RESERVE_PLAN     SMS   SENT  user_4703   \n",
       "1  METAL_RESERVE_PLAN     SMS   SENT  user_2397   \n",
       "2  METAL_RESERVE_PLAN     SMS   SENT  user_2411   \n",
       "3  METAL_RESERVE_PLAN     SMS   SENT  user_1119   \n",
       "4  METAL_RESERVE_PLAN     SMS   SENT  user_3499   \n",
       "\n",
       "                     created_date  \n",
       "0  2018-10-14 01:48:13.319987 UTC  \n",
       "1  2018-10-17 08:07:05.709072 UTC  \n",
       "2  2018-10-14 03:46:34.244392 UTC  \n",
       "3  2018-10-14 14:16:35.801185 UTC  \n",
       "4  2018-10-14 18:41:09.268675 UTC  "
      ]
     },
     "execution_count": 30,
     "metadata": {},
     "output_type": "execute_result"
    }
   ],
   "source": [
    "notifs=pd.read_csv(\"/home/eberniczky/code/neo_bank/data/raw/notifications.csv\")\n",
    "notifs.head()"
   ]
  },
  {
   "cell_type": "code",
   "execution_count": 31,
   "id": "319e1975",
   "metadata": {},
   "outputs": [
    {
     "data": {
      "text/plain": [
       "121813"
      ]
     },
     "execution_count": 31,
     "metadata": {},
     "output_type": "execute_result"
    }
   ],
   "source": [
    "len(notifs)"
   ]
  },
  {
   "cell_type": "code",
   "execution_count": 32,
   "id": "e4292f6e",
   "metadata": {},
   "outputs": [],
   "source": [
    "notifs=notifs.drop_duplicates()"
   ]
  },
  {
   "cell_type": "code",
   "execution_count": 33,
   "id": "92043052",
   "metadata": {},
   "outputs": [
    {
     "data": {
      "text/plain": [
       "121813"
      ]
     },
     "execution_count": 33,
     "metadata": {},
     "output_type": "execute_result"
    }
   ],
   "source": [
    "len(notifs)"
   ]
  },
  {
   "cell_type": "code",
   "execution_count": 34,
   "id": "f5a1f029",
   "metadata": {},
   "outputs": [],
   "source": [
    "# cleaning user_id\n",
    "notifs['user_id'] = notifs['user_id'].str.lstrip('user_')"
   ]
  },
  {
   "cell_type": "code",
   "execution_count": 35,
   "metadata": {},
   "outputs": [],
   "source": [
    "# converting date field\n",
    "notifs['created_date'] = pd.to_datetime(notifs['created_date'],errors='coerce').dt.tz_localize(None)"
   ]
  },
  {
   "cell_type": "code",
   "execution_count": 36,
   "id": "e4b3336d",
   "metadata": {},
   "outputs": [
    {
     "data": {
      "text/html": [
       "<div>\n",
       "<style scoped>\n",
       "    .dataframe tbody tr th:only-of-type {\n",
       "        vertical-align: middle;\n",
       "    }\n",
       "\n",
       "    .dataframe tbody tr th {\n",
       "        vertical-align: top;\n",
       "    }\n",
       "\n",
       "    .dataframe thead th {\n",
       "        text-align: right;\n",
       "    }\n",
       "</style>\n",
       "<table border=\"1\" class=\"dataframe\">\n",
       "  <thead>\n",
       "    <tr style=\"text-align: right;\">\n",
       "      <th></th>\n",
       "      <th>reason</th>\n",
       "      <th>channel</th>\n",
       "      <th>status</th>\n",
       "      <th>user_id</th>\n",
       "      <th>created_date</th>\n",
       "    </tr>\n",
       "  </thead>\n",
       "  <tbody>\n",
       "    <tr>\n",
       "      <th>0</th>\n",
       "      <td>METAL_RESERVE_PLAN</td>\n",
       "      <td>SMS</td>\n",
       "      <td>SENT</td>\n",
       "      <td>4703</td>\n",
       "      <td>2018-10-14 01:48:13.319987</td>\n",
       "    </tr>\n",
       "    <tr>\n",
       "      <th>1</th>\n",
       "      <td>METAL_RESERVE_PLAN</td>\n",
       "      <td>SMS</td>\n",
       "      <td>SENT</td>\n",
       "      <td>2397</td>\n",
       "      <td>2018-10-17 08:07:05.709072</td>\n",
       "    </tr>\n",
       "    <tr>\n",
       "      <th>2</th>\n",
       "      <td>METAL_RESERVE_PLAN</td>\n",
       "      <td>SMS</td>\n",
       "      <td>SENT</td>\n",
       "      <td>2411</td>\n",
       "      <td>2018-10-14 03:46:34.244392</td>\n",
       "    </tr>\n",
       "    <tr>\n",
       "      <th>3</th>\n",
       "      <td>METAL_RESERVE_PLAN</td>\n",
       "      <td>SMS</td>\n",
       "      <td>SENT</td>\n",
       "      <td>1119</td>\n",
       "      <td>2018-10-14 14:16:35.801185</td>\n",
       "    </tr>\n",
       "    <tr>\n",
       "      <th>4</th>\n",
       "      <td>METAL_RESERVE_PLAN</td>\n",
       "      <td>SMS</td>\n",
       "      <td>SENT</td>\n",
       "      <td>3499</td>\n",
       "      <td>2018-10-14 18:41:09.268675</td>\n",
       "    </tr>\n",
       "  </tbody>\n",
       "</table>\n",
       "</div>"
      ],
      "text/plain": [
       "               reason channel status user_id               created_date\n",
       "0  METAL_RESERVE_PLAN     SMS   SENT    4703 2018-10-14 01:48:13.319987\n",
       "1  METAL_RESERVE_PLAN     SMS   SENT    2397 2018-10-17 08:07:05.709072\n",
       "2  METAL_RESERVE_PLAN     SMS   SENT    2411 2018-10-14 03:46:34.244392\n",
       "3  METAL_RESERVE_PLAN     SMS   SENT    1119 2018-10-14 14:16:35.801185\n",
       "4  METAL_RESERVE_PLAN     SMS   SENT    3499 2018-10-14 18:41:09.268675"
      ]
     },
     "execution_count": 36,
     "metadata": {},
     "output_type": "execute_result"
    }
   ],
   "source": [
    "notifs.head()"
   ]
  },
  {
   "cell_type": "markdown",
   "id": "76b38056",
   "metadata": {},
   "source": [
    "# Creating Expectations"
   ]
  },
  {
   "cell_type": "code",
   "execution_count": 37,
   "id": "a1455362",
   "metadata": {},
   "outputs": [],
   "source": [
    "context = gx.get_context()"
   ]
  },
  {
   "cell_type": "markdown",
   "id": "10b8dcab",
   "metadata": {},
   "source": [
    "## Devices"
   ]
  },
  {
   "cell_type": "code",
   "execution_count": 38,
   "id": "e0943daa",
   "metadata": {},
   "outputs": [
    {
     "data": {
      "text/html": [
       "<div>\n",
       "<style scoped>\n",
       "    .dataframe tbody tr th:only-of-type {\n",
       "        vertical-align: middle;\n",
       "    }\n",
       "\n",
       "    .dataframe tbody tr th {\n",
       "        vertical-align: top;\n",
       "    }\n",
       "\n",
       "    .dataframe thead th {\n",
       "        text-align: right;\n",
       "    }\n",
       "</style>\n",
       "<table border=\"1\" class=\"dataframe\">\n",
       "  <thead>\n",
       "    <tr style=\"text-align: right;\">\n",
       "      <th></th>\n",
       "      <th>device_type</th>\n",
       "      <th>user_id</th>\n",
       "    </tr>\n",
       "  </thead>\n",
       "  <tbody>\n",
       "    <tr>\n",
       "      <th>0</th>\n",
       "      <td>Apple</td>\n",
       "      <td>6809</td>\n",
       "    </tr>\n",
       "    <tr>\n",
       "      <th>1</th>\n",
       "      <td>Apple</td>\n",
       "      <td>3636</td>\n",
       "    </tr>\n",
       "    <tr>\n",
       "      <th>2</th>\n",
       "      <td>Apple</td>\n",
       "      <td>510</td>\n",
       "    </tr>\n",
       "    <tr>\n",
       "      <th>3</th>\n",
       "      <td>Apple</td>\n",
       "      <td>3468</td>\n",
       "    </tr>\n",
       "    <tr>\n",
       "      <th>4</th>\n",
       "      <td>Apple</td>\n",
       "      <td>7036</td>\n",
       "    </tr>\n",
       "  </tbody>\n",
       "</table>\n",
       "</div>"
      ],
      "text/plain": [
       "  device_type user_id\n",
       "0       Apple    6809\n",
       "1       Apple    3636\n",
       "2       Apple     510\n",
       "3       Apple    3468\n",
       "4       Apple    7036"
      ]
     },
     "execution_count": 38,
     "metadata": {},
     "output_type": "execute_result"
    }
   ],
   "source": [
    "devices.head()"
   ]
  },
  {
   "cell_type": "code",
   "execution_count": 39,
   "id": "49cc1ce9",
   "metadata": {},
   "outputs": [
    {
     "data": {
      "text/plain": [
       "array(['Apple', 'brand', 'Android', 'Unknown'], dtype=object)"
      ]
     },
     "execution_count": 39,
     "metadata": {},
     "output_type": "execute_result"
    }
   ],
   "source": [
    "devices['device_type'].unique()"
   ]
  },
  {
   "cell_type": "code",
   "execution_count": 40,
   "id": "e4af3e81",
   "metadata": {},
   "outputs": [],
   "source": [
    "#since we don't know what \"brand\" is, let's change it to \"unknown\" as well"
   ]
  },
  {
   "cell_type": "code",
   "execution_count": 41,
   "id": "a365fad3",
   "metadata": {},
   "outputs": [],
   "source": [
    "devices[\"device_type\"] = devices[\"device_type\"].replace(\"brand\", \"Unknown\")\n"
   ]
  },
  {
   "cell_type": "code",
   "execution_count": 42,
   "id": "4873dc75",
   "metadata": {},
   "outputs": [
    {
     "data": {
      "text/plain": [
       "array(['Apple', 'Unknown', 'Android'], dtype=object)"
      ]
     },
     "execution_count": 42,
     "metadata": {},
     "output_type": "execute_result"
    }
   ],
   "source": [
    "devices['device_type'].unique()"
   ]
  },
  {
   "cell_type": "code",
   "execution_count": null,
   "id": "0fa49d10",
   "metadata": {},
   "outputs": [],
   "source": [
    "# Check if all user_id s are numeric\n",
    "mask = devices['user_id'].str.isnumeric()\n",
    "all_numeric = mask.all()\n",
    "all_numeric"
   ]
  },
  {
   "cell_type": "code",
   "execution_count": null,
   "id": "e3a5e6dc",
   "metadata": {},
   "outputs": [],
   "source": [
    "#  Drop rows where user_id is NaN\n",
    "devices['user_id'] = pd.to_numeric(devices['user_id'], errors='coerce')\n",
    "devices = devices.dropna(subset=['user_id'])"
   ]
  },
  {
   "cell_type": "code",
   "execution_count": null,
   "metadata": {},
   "outputs": [],
   "source": [
    "# Convert to integer if all values are now valid\n",
    "devices['user_id'] = devices['user_id'].astype('Int64')"
   ]
  },
  {
   "cell_type": "code",
   "execution_count": 44,
   "metadata": {},
   "outputs": [
    {
     "data": {
      "text/html": [
       "<div>\n",
       "<style scoped>\n",
       "    .dataframe tbody tr th:only-of-type {\n",
       "        vertical-align: middle;\n",
       "    }\n",
       "\n",
       "    .dataframe tbody tr th {\n",
       "        vertical-align: top;\n",
       "    }\n",
       "\n",
       "    .dataframe thead th {\n",
       "        text-align: right;\n",
       "    }\n",
       "</style>\n",
       "<table border=\"1\" class=\"dataframe\">\n",
       "  <thead>\n",
       "    <tr style=\"text-align: right;\">\n",
       "      <th></th>\n",
       "      <th>device_type</th>\n",
       "      <th>user_id</th>\n",
       "    </tr>\n",
       "  </thead>\n",
       "  <tbody>\n",
       "    <tr>\n",
       "      <th>0</th>\n",
       "      <td>Apple</td>\n",
       "      <td>6809</td>\n",
       "    </tr>\n",
       "    <tr>\n",
       "      <th>1</th>\n",
       "      <td>Apple</td>\n",
       "      <td>3636</td>\n",
       "    </tr>\n",
       "    <tr>\n",
       "      <th>2</th>\n",
       "      <td>Apple</td>\n",
       "      <td>510</td>\n",
       "    </tr>\n",
       "    <tr>\n",
       "      <th>3</th>\n",
       "      <td>Apple</td>\n",
       "      <td>3468</td>\n",
       "    </tr>\n",
       "    <tr>\n",
       "      <th>4</th>\n",
       "      <td>Apple</td>\n",
       "      <td>7036</td>\n",
       "    </tr>\n",
       "  </tbody>\n",
       "</table>\n",
       "</div>"
      ],
      "text/plain": [
       "  device_type  user_id\n",
       "0       Apple     6809\n",
       "1       Apple     3636\n",
       "2       Apple      510\n",
       "3       Apple     3468\n",
       "4       Apple     7036"
      ]
     },
     "execution_count": 44,
     "metadata": {},
     "output_type": "execute_result"
    }
   ],
   "source": [
    "devices.head()"
   ]
  },
  {
   "cell_type": "code",
   "execution_count": null,
   "id": "f5497dcf",
   "metadata": {},
   "outputs": [],
   "source": [
    "#creates new cleaned parquet file\n",
    "devices.to_parquet(\"/home/eberniczky/code/neo_bank/data/cleaned/devices.parquet\", index=False)"
   ]
  },
  {
   "cell_type": "code",
   "execution_count": 46,
   "id": "a03a1f1f",
   "metadata": {},
   "outputs": [
    {
     "name": "stdout",
     "output_type": "stream",
     "text": [
      "Min length: 1\n",
      "Max length: 5\n"
     ]
    }
   ],
   "source": [
    "#checking that all user_ids are a standard length\n",
    "lengths = devices[\"user_id\"].astype(str).str.len()\n",
    "\n",
    "min_len = lengths.min()\n",
    "max_len = lengths.max()\n",
    "\n",
    "print(f\"Min length: {min_len}\")\n",
    "print(f\"Max length: {max_len}\")\n"
   ]
  },
  {
   "cell_type": "code",
   "execution_count": 47,
   "id": "228fe8b6",
   "metadata": {},
   "outputs": [
    {
     "name": "stdout",
     "output_type": "stream",
     "text": [
      "User IDs with the shortest length:\n",
      "<IntegerArray>\n",
      "[1, 6, 4, 0, 5, 3, 7, 9, 8, 2]\n",
      "Length: 10, dtype: Int64\n"
     ]
    }
   ],
   "source": [
    "print(\"User IDs with the shortest length:\")\n",
    "print(devices[devices[\"user_id\"].astype(str).str.len() == min_len][\"user_id\"].unique())"
   ]
  },
  {
   "cell_type": "code",
   "execution_count": 48,
   "id": "9ca93505",
   "metadata": {},
   "outputs": [
    {
     "name": "stdout",
     "output_type": "stream",
     "text": [
      "User IDs with the longest length:\n",
      "<IntegerArray>\n",
      "[11885, 15533, 11964, 10670, 19220, 14587, 15593, 12295, 12617, 18270,\n",
      " ...\n",
      " 13121, 15790, 10442, 15105, 10984, 13531, 12568, 12296, 19056, 12199]\n",
      "Length: 9430, dtype: Int64\n"
     ]
    }
   ],
   "source": [
    "print(\"User IDs with the longest length:\")\n",
    "print(devices[devices[\"user_id\"].astype(str).str.len() == max_len][\"user_id\"].unique())"
   ]
  },
  {
   "cell_type": "code",
   "execution_count": 49,
   "id": "eeae9de2",
   "metadata": {},
   "outputs": [],
   "source": [
    "########"
   ]
  },
  {
   "cell_type": "code",
   "execution_count": 50,
   "id": "5ac653aa",
   "metadata": {},
   "outputs": [
    {
     "data": {
      "text/html": [
       "<div>\n",
       "<style scoped>\n",
       "    .dataframe tbody tr th:only-of-type {\n",
       "        vertical-align: middle;\n",
       "    }\n",
       "\n",
       "    .dataframe tbody tr th {\n",
       "        vertical-align: top;\n",
       "    }\n",
       "\n",
       "    .dataframe thead th {\n",
       "        text-align: right;\n",
       "    }\n",
       "</style>\n",
       "<table border=\"1\" class=\"dataframe\">\n",
       "  <thead>\n",
       "    <tr style=\"text-align: right;\">\n",
       "      <th></th>\n",
       "      <th>device_type</th>\n",
       "      <th>user_id</th>\n",
       "    </tr>\n",
       "  </thead>\n",
       "  <tbody>\n",
       "    <tr>\n",
       "      <th>0</th>\n",
       "      <td>Apple</td>\n",
       "      <td>6809</td>\n",
       "    </tr>\n",
       "    <tr>\n",
       "      <th>1</th>\n",
       "      <td>Apple</td>\n",
       "      <td>3636</td>\n",
       "    </tr>\n",
       "    <tr>\n",
       "      <th>2</th>\n",
       "      <td>Apple</td>\n",
       "      <td>510</td>\n",
       "    </tr>\n",
       "    <tr>\n",
       "      <th>3</th>\n",
       "      <td>Apple</td>\n",
       "      <td>3468</td>\n",
       "    </tr>\n",
       "    <tr>\n",
       "      <th>4</th>\n",
       "      <td>Apple</td>\n",
       "      <td>7036</td>\n",
       "    </tr>\n",
       "  </tbody>\n",
       "</table>\n",
       "</div>"
      ],
      "text/plain": [
       "  device_type  user_id\n",
       "0       Apple     6809\n",
       "1       Apple     3636\n",
       "2       Apple      510\n",
       "3       Apple     3468\n",
       "4       Apple     7036"
      ]
     },
     "execution_count": 50,
     "metadata": {},
     "output_type": "execute_result"
    }
   ],
   "source": [
    "devices.head()"
   ]
  },
  {
   "cell_type": "code",
   "execution_count": null,
   "id": "178a8689",
   "metadata": {},
   "outputs": [],
   "source": [
    "validator = context.sources.pandas_default.read_parquet(\"/home/eberniczky/code/neo_bank/data/cleaned/devices.parquet\")"
   ]
  },
  {
   "cell_type": "code",
   "execution_count": 52,
   "id": "6024baeb",
   "metadata": {},
   "outputs": [
    {
     "data": {
      "application/vnd.jupyter.widget-view+json": {
       "model_id": "0f985eeb2d5346c98a12c53cde69a6b5",
       "version_major": 2,
       "version_minor": 0
      },
      "text/plain": [
       "Calculating Metrics:   0%|          | 0/6 [00:00<?, ?it/s]"
      ]
     },
     "metadata": {},
     "output_type": "display_data"
    },
    {
     "data": {
      "text/plain": [
       "{\n",
       "  \"success\": true,\n",
       "  \"result\": {\n",
       "    \"element_count\": 19431,\n",
       "    \"unexpected_count\": 0,\n",
       "    \"unexpected_percent\": 0.0,\n",
       "    \"partial_unexpected_list\": []\n",
       "  },\n",
       "  \"meta\": {},\n",
       "  \"exception_info\": {\n",
       "    \"raised_exception\": false,\n",
       "    \"exception_traceback\": null,\n",
       "    \"exception_message\": null\n",
       "  }\n",
       "}"
      ]
     },
     "execution_count": 52,
     "metadata": {},
     "output_type": "execute_result"
    }
   ],
   "source": [
    "validator.expect_column_values_to_not_be_null(\"device_type\")"
   ]
  },
  {
   "cell_type": "code",
   "execution_count": null,
   "id": "5a4f9981",
   "metadata": {},
   "outputs": [
    {
     "data": {
      "application/vnd.jupyter.widget-view+json": {
       "model_id": "6b1f2d22b7fd4b8398ce155b33f40c7e",
       "version_major": 2,
       "version_minor": 0
      },
      "text/plain": [
       "Calculating Metrics:   0%|          | 0/6 [00:00<?, ?it/s]"
      ]
     },
     "metadata": {},
     "output_type": "display_data"
    },
    {
     "data": {
      "text/plain": [
       "{\n",
       "  \"success\": false,\n",
       "  \"result\": {\n",
       "    \"element_count\": 19431,\n",
       "    \"unexpected_count\": 1,\n",
       "    \"unexpected_percent\": 0.0051464155215892125,\n",
       "    \"partial_unexpected_list\": [\n",
       "      null\n",
       "    ]\n",
       "  },\n",
       "  \"meta\": {},\n",
       "  \"exception_info\": {\n",
       "    \"raised_exception\": false,\n",
       "    \"exception_traceback\": null,\n",
       "    \"exception_message\": null\n",
       "  }\n",
       "}"
      ]
     },
     "execution_count": 54,
     "metadata": {},
     "output_type": "execute_result"
    }
   ],
   "source": [
    "validator.expect_column_values_to_not_be_null(\"user_id\")"
   ]
  },
  {
   "cell_type": "code",
   "execution_count": null,
   "id": "72bd6af8",
   "metadata": {},
   "outputs": [
    {
     "data": {
      "application/vnd.jupyter.widget-view+json": {
       "model_id": "9fe4795aaa5740f9942d327b36dbff93",
       "version_major": 2,
       "version_minor": 0
      },
      "text/plain": [
       "Calculating Metrics:   0%|          | 0/4 [00:00<?, ?it/s]"
      ]
     },
     "metadata": {},
     "output_type": "display_data"
    },
    {
     "data": {
      "text/plain": [
       "{\n",
       "  \"success\": true,\n",
       "  \"result\": {\n",
       "    \"observed_value\": [\n",
       "      \"Android\",\n",
       "      \"Apple\",\n",
       "      \"Unknown\"\n",
       "    ],\n",
       "    \"details\": {\n",
       "      \"value_counts\": [\n",
       "        {\n",
       "          \"value\": \"Android\",\n",
       "          \"count\": 9714\n",
       "        },\n",
       "        {\n",
       "          \"value\": \"Apple\",\n",
       "          \"count\": 9673\n",
       "        },\n",
       "        {\n",
       "          \"value\": \"Unknown\",\n",
       "          \"count\": 44\n",
       "        }\n",
       "      ]\n",
       "    }\n",
       "  },\n",
       "  \"meta\": {},\n",
       "  \"exception_info\": {\n",
       "    \"raised_exception\": false,\n",
       "    \"exception_traceback\": null,\n",
       "    \"exception_message\": null\n",
       "  }\n",
       "}"
      ]
     },
     "execution_count": 55,
     "metadata": {},
     "output_type": "execute_result"
    }
   ],
   "source": [
    "validator.expect_column_distinct_values_to_be_in_set(\n",
    "    column=\"device_type\",\n",
    "    value_set=[\"Android\",\"Apple\",\"Unknown\"]\n",
    ")"
   ]
  },
  {
   "cell_type": "code",
   "execution_count": null,
   "id": "5404fe22",
   "metadata": {},
   "outputs": [
    {
     "data": {
      "application/vnd.jupyter.widget-view+json": {
       "model_id": "a8a3dce7515c4d52a44856c783bf6e3c",
       "version_major": 2,
       "version_minor": 0
      },
      "text/plain": [
       "Calculating Metrics:   0%|          | 0/8 [00:00<?, ?it/s]"
      ]
     },
     "metadata": {},
     "output_type": "display_data"
    },
    {
     "data": {
      "text/plain": [
       "{\n",
       "  \"success\": false,\n",
       "  \"result\": {\n",
       "    \"element_count\": 19431,\n",
       "    \"unexpected_count\": 19430,\n",
       "    \"unexpected_percent\": 100.0,\n",
       "    \"partial_unexpected_list\": [\n",
       "      6809,\n",
       "      3636,\n",
       "      510,\n",
       "      3468,\n",
       "      7036,\n",
       "      5108,\n",
       "      2843,\n",
       "      6985,\n",
       "      8180,\n",
       "      8542,\n",
       "      8874,\n",
       "      1500,\n",
       "      4349,\n",
       "      7144,\n",
       "      2616,\n",
       "      6959,\n",
       "      1778,\n",
       "      11,\n",
       "      6096,\n",
       "      5014\n",
       "    ],\n",
       "    \"missing_count\": 1,\n",
       "    \"missing_percent\": 0.0051464155215892125,\n",
       "    \"unexpected_percent_total\": 99.99485358447842,\n",
       "    \"unexpected_percent_nonmissing\": 100.0\n",
       "  },\n",
       "  \"meta\": {},\n",
       "  \"exception_info\": {\n",
       "    \"raised_exception\": false,\n",
       "    \"exception_traceback\": null,\n",
       "    \"exception_message\": null\n",
       "  }\n",
       "}"
      ]
     },
     "execution_count": 56,
     "metadata": {},
     "output_type": "execute_result"
    }
   ],
   "source": [
    "validator.expect_column_values_to_match_regex(\n",
    "    column=\"user_id\",\n",
    "    regex=r\"^user_\"\n",
    ")\n"
   ]
  },
  {
   "cell_type": "code",
   "execution_count": null,
   "id": "c93d9dd9",
   "metadata": {},
   "outputs": [
    {
     "data": {
      "application/vnd.jupyter.widget-view+json": {
       "model_id": "142868f23e56452c8cacb943988cc4a7",
       "version_major": 2,
       "version_minor": 0
      },
      "text/plain": [
       "Calculating Metrics:   0%|          | 0/9 [00:00<?, ?it/s]"
      ]
     },
     "metadata": {},
     "output_type": "display_data"
    },
    {
     "data": {
      "text/plain": [
       "{\n",
       "  \"success\": false,\n",
       "  \"result\": {\n",
       "    \"element_count\": 19431,\n",
       "    \"unexpected_count\": 19430,\n",
       "    \"unexpected_percent\": 100.0,\n",
       "    \"partial_unexpected_list\": [\n",
       "      6809,\n",
       "      3636,\n",
       "      510,\n",
       "      3468,\n",
       "      7036,\n",
       "      5108,\n",
       "      2843,\n",
       "      6985,\n",
       "      8180,\n",
       "      8542,\n",
       "      8874,\n",
       "      1500,\n",
       "      4349,\n",
       "      7144,\n",
       "      2616,\n",
       "      6959,\n",
       "      1778,\n",
       "      11,\n",
       "      6096,\n",
       "      5014\n",
       "    ],\n",
       "    \"missing_count\": 1,\n",
       "    \"missing_percent\": 0.0051464155215892125,\n",
       "    \"unexpected_percent_total\": 99.99485358447842,\n",
       "    \"unexpected_percent_nonmissing\": 100.0\n",
       "  },\n",
       "  \"meta\": {},\n",
       "  \"exception_info\": {\n",
       "    \"raised_exception\": false,\n",
       "    \"exception_traceback\": null,\n",
       "    \"exception_message\": null\n",
       "  }\n",
       "}"
      ]
     },
     "execution_count": 57,
     "metadata": {},
     "output_type": "execute_result"
    }
   ],
   "source": [
    "validator.expect_column_value_lengths_to_be_between(\n",
    "    column=\"user_id\",\n",
    "    min_value=6,\n",
    "    max_value=10\n",
    ")\n"
   ]
  },
  {
   "cell_type": "markdown",
   "id": "876f0d28",
   "metadata": {},
   "source": [
    "## Transactions"
   ]
  },
  {
   "cell_type": "code",
   "execution_count": null,
   "id": "a1b9ff14",
   "metadata": {},
   "outputs": [
    {
     "data": {
      "text/html": [
       "<div>\n",
       "<style scoped>\n",
       "    .dataframe tbody tr th:only-of-type {\n",
       "        vertical-align: middle;\n",
       "    }\n",
       "\n",
       "    .dataframe tbody tr th {\n",
       "        vertical-align: top;\n",
       "    }\n",
       "\n",
       "    .dataframe thead th {\n",
       "        text-align: right;\n",
       "    }\n",
       "</style>\n",
       "<table border=\"1\" class=\"dataframe\">\n",
       "  <thead>\n",
       "    <tr style=\"text-align: right;\">\n",
       "      <th></th>\n",
       "      <th>transaction_id</th>\n",
       "      <th>transactions_type</th>\n",
       "      <th>transactions_currency</th>\n",
       "      <th>amount_usd</th>\n",
       "      <th>transactions_state</th>\n",
       "      <th>ea_cardholderpresence</th>\n",
       "      <th>ea_merchant_mcc</th>\n",
       "      <th>ea_merchant_city</th>\n",
       "      <th>ea_merchant_country</th>\n",
       "      <th>direction</th>\n",
       "      <th>user_id</th>\n",
       "      <th>created_date</th>\n",
       "    </tr>\n",
       "  </thead>\n",
       "  <tbody>\n",
       "    <tr>\n",
       "      <th>0</th>\n",
       "      <td>1884</td>\n",
       "      <td>REFUND</td>\n",
       "      <td>AED</td>\n",
       "      <td>1.76</td>\n",
       "      <td>COMPLETED</td>\n",
       "      <td>None</td>\n",
       "      <td>NaN</td>\n",
       "      <td>None</td>\n",
       "      <td>None</td>\n",
       "      <td>INBOUND</td>\n",
       "      <td>8098</td>\n",
       "      <td>2018-09-25 16:03:40.978243 UTC</td>\n",
       "    </tr>\n",
       "    <tr>\n",
       "      <th>1</th>\n",
       "      <td>1728</td>\n",
       "      <td>REFUND</td>\n",
       "      <td>AED</td>\n",
       "      <td>639.31</td>\n",
       "      <td>COMPLETED</td>\n",
       "      <td>None</td>\n",
       "      <td>NaN</td>\n",
       "      <td>None</td>\n",
       "      <td>None</td>\n",
       "      <td>INBOUND</td>\n",
       "      <td>182</td>\n",
       "      <td>2018-03-31 13:45:25.262231 UTC</td>\n",
       "    </tr>\n",
       "    <tr>\n",
       "      <th>2</th>\n",
       "      <td>1755782</td>\n",
       "      <td>REFUND</td>\n",
       "      <td>AED</td>\n",
       "      <td>3.49</td>\n",
       "      <td>COMPLETED</td>\n",
       "      <td>None</td>\n",
       "      <td>NaN</td>\n",
       "      <td>None</td>\n",
       "      <td>None</td>\n",
       "      <td>INBOUND</td>\n",
       "      <td>14271</td>\n",
       "      <td>2018-11-17 16:47:25.748975 UTC</td>\n",
       "    </tr>\n",
       "    <tr>\n",
       "      <th>3</th>\n",
       "      <td>1973</td>\n",
       "      <td>TOPUP</td>\n",
       "      <td>AED</td>\n",
       "      <td>6079.39</td>\n",
       "      <td>COMPLETED</td>\n",
       "      <td>None</td>\n",
       "      <td>NaN</td>\n",
       "      <td>None</td>\n",
       "      <td>None</td>\n",
       "      <td>INBOUND</td>\n",
       "      <td>4773</td>\n",
       "      <td>2018-08-13 21:51:28.670363 UTC</td>\n",
       "    </tr>\n",
       "    <tr>\n",
       "      <th>4</th>\n",
       "      <td>1716</td>\n",
       "      <td>TOPUP</td>\n",
       "      <td>AED</td>\n",
       "      <td>206.65</td>\n",
       "      <td>COMPLETED</td>\n",
       "      <td>None</td>\n",
       "      <td>NaN</td>\n",
       "      <td>None</td>\n",
       "      <td>None</td>\n",
       "      <td>INBOUND</td>\n",
       "      <td>1363</td>\n",
       "      <td>2018-10-30 14:34:57.479895 UTC</td>\n",
       "    </tr>\n",
       "  </tbody>\n",
       "</table>\n",
       "</div>"
      ],
      "text/plain": [
       "  transaction_id transactions_type transactions_currency  amount_usd  \\\n",
       "0           1884            REFUND                   AED        1.76   \n",
       "1           1728            REFUND                   AED      639.31   \n",
       "2        1755782            REFUND                   AED        3.49   \n",
       "3           1973             TOPUP                   AED     6079.39   \n",
       "4           1716             TOPUP                   AED      206.65   \n",
       "\n",
       "  transactions_state ea_cardholderpresence  ea_merchant_mcc ea_merchant_city  \\\n",
       "0          COMPLETED                  None              NaN             None   \n",
       "1          COMPLETED                  None              NaN             None   \n",
       "2          COMPLETED                  None              NaN             None   \n",
       "3          COMPLETED                  None              NaN             None   \n",
       "4          COMPLETED                  None              NaN             None   \n",
       "\n",
       "  ea_merchant_country direction user_id                    created_date  \n",
       "0                None   INBOUND    8098  2018-09-25 16:03:40.978243 UTC  \n",
       "1                None   INBOUND     182  2018-03-31 13:45:25.262231 UTC  \n",
       "2                None   INBOUND   14271  2018-11-17 16:47:25.748975 UTC  \n",
       "3                None   INBOUND    4773  2018-08-13 21:51:28.670363 UTC  \n",
       "4                None   INBOUND    1363  2018-10-30 14:34:57.479895 UTC  "
      ]
     },
     "execution_count": 58,
     "metadata": {},
     "output_type": "execute_result"
    }
   ],
   "source": [
    "trans.head()"
   ]
  },
  {
   "cell_type": "code",
   "execution_count": null,
   "id": "ad93b06c",
   "metadata": {},
   "outputs": [
    {
     "data": {
      "text/plain": [
       "array(['REFUND', 'TOPUP', 'EXCHANGE', 'TRANSFER', 'CARD_PAYMENT',\n",
       "       'CARD_REFUND', 'ATM', 'FEE', 'CASHBACK', 'TAX'], dtype=object)"
      ]
     },
     "execution_count": 59,
     "metadata": {},
     "output_type": "execute_result"
    }
   ],
   "source": [
    "trans['transactions_type'].unique()"
   ]
  },
  {
   "cell_type": "code",
   "execution_count": null,
   "id": "802aea56",
   "metadata": {},
   "outputs": [
    {
     "data": {
      "text/plain": [
       "array(['AED', 'AUD', 'BCH', 'BGN', 'BTC', 'CAD', 'CHF', 'CZK', 'DKK',\n",
       "       'ETH', 'EUR', 'GBP', 'HKD', 'HRK', 'HUF', 'ILS', 'INR', 'JPY',\n",
       "       'LTC', 'MAD', 'MXN', 'NOK', 'NZD', 'PLN', 'QAR', 'RON', 'RUB',\n",
       "       'SAR', 'SEK', 'SGD', 'THB', 'TRY', 'USD', 'XRP', 'ZAR'],\n",
       "      dtype=object)"
      ]
     },
     "execution_count": 60,
     "metadata": {},
     "output_type": "execute_result"
    }
   ],
   "source": [
    "trans['transactions_currency'].unique()"
   ]
  },
  {
   "cell_type": "code",
   "execution_count": null,
   "id": "a9350446",
   "metadata": {},
   "outputs": [
    {
     "data": {
      "text/plain": [
       "85106453190.03"
      ]
     },
     "execution_count": 61,
     "metadata": {},
     "output_type": "execute_result"
    }
   ],
   "source": [
    "trans['amount_usd'].max()"
   ]
  },
  {
   "cell_type": "code",
   "execution_count": null,
   "id": "9aa25670",
   "metadata": {},
   "outputs": [
    {
     "data": {
      "text/plain": [
       "0.0"
      ]
     },
     "execution_count": 62,
     "metadata": {},
     "output_type": "execute_result"
    }
   ],
   "source": [
    "trans['amount_usd'].min()"
   ]
  },
  {
   "cell_type": "code",
   "execution_count": null,
   "id": "90bcd648",
   "metadata": {},
   "outputs": [
    {
     "data": {
      "text/plain": [
       "transaction_id            object\n",
       "transactions_type         object\n",
       "transactions_currency     object\n",
       "amount_usd               float64\n",
       "transactions_state        object\n",
       "ea_cardholderpresence     object\n",
       "ea_merchant_mcc          float64\n",
       "ea_merchant_city          object\n",
       "ea_merchant_country       object\n",
       "direction                 object\n",
       "user_id                   object\n",
       "created_date              object\n",
       "dtype: object"
      ]
     },
     "execution_count": 63,
     "metadata": {},
     "output_type": "execute_result"
    }
   ],
   "source": [
    "trans.dtypes"
   ]
  },
  {
   "cell_type": "code",
   "execution_count": null,
   "id": "f35e4081",
   "metadata": {},
   "outputs": [],
   "source": [
    "trans['created_date'] = pd.to_datetime(trans['created_date'],errors='coerce').dt.tz_localize(None)"
   ]
  },
  {
   "cell_type": "code",
   "execution_count": null,
   "metadata": {},
   "outputs": [
    {
     "data": {
      "text/plain": [
       "2740075"
      ]
     },
     "execution_count": 65,
     "metadata": {},
     "output_type": "execute_result"
    }
   ],
   "source": [
    "len(trans['created_date'])"
   ]
  },
  {
   "cell_type": "code",
   "execution_count": null,
   "id": "fe4ce77a",
   "metadata": {},
   "outputs": [],
   "source": [
    "trans = trans.dropna(subset=['created_date'])"
   ]
  },
  {
   "cell_type": "code",
   "execution_count": null,
   "id": "371c23b6",
   "metadata": {},
   "outputs": [
    {
     "data": {
      "text/html": [
       "<div>\n",
       "<style scoped>\n",
       "    .dataframe tbody tr th:only-of-type {\n",
       "        vertical-align: middle;\n",
       "    }\n",
       "\n",
       "    .dataframe tbody tr th {\n",
       "        vertical-align: top;\n",
       "    }\n",
       "\n",
       "    .dataframe thead th {\n",
       "        text-align: right;\n",
       "    }\n",
       "</style>\n",
       "<table border=\"1\" class=\"dataframe\">\n",
       "  <thead>\n",
       "    <tr style=\"text-align: right;\">\n",
       "      <th></th>\n",
       "      <th>transaction_id</th>\n",
       "      <th>transactions_type</th>\n",
       "      <th>transactions_currency</th>\n",
       "      <th>amount_usd</th>\n",
       "      <th>transactions_state</th>\n",
       "      <th>ea_cardholderpresence</th>\n",
       "      <th>ea_merchant_mcc</th>\n",
       "      <th>ea_merchant_city</th>\n",
       "      <th>ea_merchant_country</th>\n",
       "      <th>direction</th>\n",
       "      <th>user_id</th>\n",
       "      <th>created_date</th>\n",
       "    </tr>\n",
       "  </thead>\n",
       "  <tbody>\n",
       "    <tr>\n",
       "      <th>0</th>\n",
       "      <td>1884</td>\n",
       "      <td>REFUND</td>\n",
       "      <td>AED</td>\n",
       "      <td>1.76</td>\n",
       "      <td>COMPLETED</td>\n",
       "      <td>None</td>\n",
       "      <td>NaN</td>\n",
       "      <td>None</td>\n",
       "      <td>None</td>\n",
       "      <td>INBOUND</td>\n",
       "      <td>8098</td>\n",
       "      <td>2018-09-25 16:03:40.978243</td>\n",
       "    </tr>\n",
       "    <tr>\n",
       "      <th>1</th>\n",
       "      <td>1728</td>\n",
       "      <td>REFUND</td>\n",
       "      <td>AED</td>\n",
       "      <td>639.31</td>\n",
       "      <td>COMPLETED</td>\n",
       "      <td>None</td>\n",
       "      <td>NaN</td>\n",
       "      <td>None</td>\n",
       "      <td>None</td>\n",
       "      <td>INBOUND</td>\n",
       "      <td>182</td>\n",
       "      <td>2018-03-31 13:45:25.262231</td>\n",
       "    </tr>\n",
       "    <tr>\n",
       "      <th>2</th>\n",
       "      <td>1755782</td>\n",
       "      <td>REFUND</td>\n",
       "      <td>AED</td>\n",
       "      <td>3.49</td>\n",
       "      <td>COMPLETED</td>\n",
       "      <td>None</td>\n",
       "      <td>NaN</td>\n",
       "      <td>None</td>\n",
       "      <td>None</td>\n",
       "      <td>INBOUND</td>\n",
       "      <td>14271</td>\n",
       "      <td>2018-11-17 16:47:25.748975</td>\n",
       "    </tr>\n",
       "    <tr>\n",
       "      <th>3</th>\n",
       "      <td>1973</td>\n",
       "      <td>TOPUP</td>\n",
       "      <td>AED</td>\n",
       "      <td>6079.39</td>\n",
       "      <td>COMPLETED</td>\n",
       "      <td>None</td>\n",
       "      <td>NaN</td>\n",
       "      <td>None</td>\n",
       "      <td>None</td>\n",
       "      <td>INBOUND</td>\n",
       "      <td>4773</td>\n",
       "      <td>2018-08-13 21:51:28.670363</td>\n",
       "    </tr>\n",
       "    <tr>\n",
       "      <th>4</th>\n",
       "      <td>1716</td>\n",
       "      <td>TOPUP</td>\n",
       "      <td>AED</td>\n",
       "      <td>206.65</td>\n",
       "      <td>COMPLETED</td>\n",
       "      <td>None</td>\n",
       "      <td>NaN</td>\n",
       "      <td>None</td>\n",
       "      <td>None</td>\n",
       "      <td>INBOUND</td>\n",
       "      <td>1363</td>\n",
       "      <td>2018-10-30 14:34:57.479895</td>\n",
       "    </tr>\n",
       "  </tbody>\n",
       "</table>\n",
       "</div>"
      ],
      "text/plain": [
       "  transaction_id transactions_type transactions_currency  amount_usd  \\\n",
       "0           1884            REFUND                   AED        1.76   \n",
       "1           1728            REFUND                   AED      639.31   \n",
       "2        1755782            REFUND                   AED        3.49   \n",
       "3           1973             TOPUP                   AED     6079.39   \n",
       "4           1716             TOPUP                   AED      206.65   \n",
       "\n",
       "  transactions_state ea_cardholderpresence  ea_merchant_mcc ea_merchant_city  \\\n",
       "0          COMPLETED                  None              NaN             None   \n",
       "1          COMPLETED                  None              NaN             None   \n",
       "2          COMPLETED                  None              NaN             None   \n",
       "3          COMPLETED                  None              NaN             None   \n",
       "4          COMPLETED                  None              NaN             None   \n",
       "\n",
       "  ea_merchant_country direction user_id               created_date  \n",
       "0                None   INBOUND    8098 2018-09-25 16:03:40.978243  \n",
       "1                None   INBOUND     182 2018-03-31 13:45:25.262231  \n",
       "2                None   INBOUND   14271 2018-11-17 16:47:25.748975  \n",
       "3                None   INBOUND    4773 2018-08-13 21:51:28.670363  \n",
       "4                None   INBOUND    1363 2018-10-30 14:34:57.479895  "
      ]
     },
     "execution_count": 67,
     "metadata": {},
     "output_type": "execute_result"
    }
   ],
   "source": [
    "trans.head()"
   ]
  },
  {
   "cell_type": "code",
   "execution_count": null,
   "id": "7b43f051",
   "metadata": {},
   "outputs": [
    {
     "data": {
      "text/plain": [
       "transaction_id                   object\n",
       "transactions_type                object\n",
       "transactions_currency            object\n",
       "amount_usd                      float64\n",
       "transactions_state               object\n",
       "ea_cardholderpresence            object\n",
       "ea_merchant_mcc                 float64\n",
       "ea_merchant_city                 object\n",
       "ea_merchant_country              object\n",
       "direction                        object\n",
       "user_id                          object\n",
       "created_date             datetime64[ns]\n",
       "dtype: object"
      ]
     },
     "execution_count": 68,
     "metadata": {},
     "output_type": "execute_result"
    }
   ],
   "source": [
    "trans.dtypes"
   ]
  },
  {
   "cell_type": "code",
   "execution_count": null,
   "id": "d11a4b82",
   "metadata": {},
   "outputs": [
    {
     "data": {
      "text/plain": [
       "array(['COMPLETED', 'CANCELLED', 'DECLINED', 'PENDING', 'REVERTED',\n",
       "       'FAILED'], dtype=object)"
      ]
     },
     "execution_count": 69,
     "metadata": {},
     "output_type": "execute_result"
    }
   ],
   "source": [
    "trans['transactions_state'].unique()"
   ]
  },
  {
   "cell_type": "code",
   "execution_count": null,
   "metadata": {},
   "outputs": [],
   "source": [
    "trans['ea_cardholderpresence'] = trans['ea_cardholderpresence'].astype('bool')"
   ]
  },
  {
   "cell_type": "code",
   "execution_count": null,
   "metadata": {},
   "outputs": [
    {
     "data": {
      "text/plain": [
       "array([False,  True])"
      ]
     },
     "execution_count": 71,
     "metadata": {},
     "output_type": "execute_result"
    }
   ],
   "source": [
    "trans['ea_cardholderpresence'].unique()"
   ]
  },
  {
   "cell_type": "code",
   "execution_count": null,
   "id": "239d612a",
   "metadata": {},
   "outputs": [
    {
     "data": {
      "text/plain": [
       "array([  nan, 9222., 4111., 4112., 5651.])"
      ]
     },
     "execution_count": 72,
     "metadata": {},
     "output_type": "execute_result"
    }
   ],
   "source": [
    "trans['ea_merchant_mcc'].unique()[:5]\n",
    "#drop"
   ]
  },
  {
   "cell_type": "code",
   "execution_count": null,
   "id": "d5fc99ee",
   "metadata": {},
   "outputs": [
    {
     "name": "stdout",
     "output_type": "stream",
     "text": [
      "[None, 'Dubai', 'tfl.gov.uk/cp', 'Stockholm', 'M?nchen-flugh']\n"
     ]
    }
   ],
   "source": [
    "uv = trans['ea_merchant_city'].unique()[:5]\n",
    "print(list(uv))\n",
    "#drop"
   ]
  },
  {
   "cell_type": "code",
   "execution_count": null,
   "id": "084f621b",
   "metadata": {},
   "outputs": [
    {
     "data": {
      "text/plain": [
       "array([None, 'ARE', 'GBR', 'SWE', 'DEU', 'FRA', 'EST', 'NLD', 'POL',\n",
       "       'ISL', 'ESP', 'USA', 'LUX', 'DNK', 'IRL', 'JOR', 'ROM', 'ITA',\n",
       "       'LTU', 'AUS', 'HKG', 'SGP', 'NZL', 'FJI', 'IDN', 'CHE', 'MYS',\n",
       "       'CHN', 'VNM', 'BGR', 'MNE', 'NOR', 'ISR', 'BEL', 'CYP', 'CZE',\n",
       "       'ROU', 'GIB', 'EGY', 'PRT', 'CAN', 'ZAF', 'MEX', 'COL', 'PER',\n",
       "       'ARG', 'HUN', 'LKA', 'BOL', 'BRA', 'LVA', 'THA', 'RUS', 'FIN',\n",
       "       'AUT', 'HRV', 'GRC', 'JPN', 'REU', 'SRB', 'BIH', 'CHL', 'TTO',\n",
       "       'LBN', 'IND', 'KAZ', 'CRI', 'TWN', 'TUR', 'URY', 'AND', 'QAT',\n",
       "       'LIE', 'BHS', 'MAR', 'MUS', 'OMN', 'MLT', 'BMU', 'UGA', 'ARM',\n",
       "       'SYC', 'PHL', 'KEN', 'MCO', 'MDV', 'UZB', 'GEO', 'ETH', 'MOZ',\n",
       "       'TCA', 'NPL', 'JAM', 'CUB', 'LAO', 'UKR', 'KHM', 'SVN', 'VCT',\n",
       "       'SVK', 'BLR', 'PAN', 'MMR', 'DOM', 'TZA', 'ECU', 'MKD', 'VAT',\n",
       "       'HND', 'GTM', 'PYF', 'KOR', 'SXM', 'MTQ', 'PRI', 'GLP', 'MNG',\n",
       "       'TUN', 'NGA', 'AGO', 'VEN', 'SAU', 'NER', 'ATG', 'MDA', 'MYT',\n",
       "       'PRY', 'SEN', 'NCL', 'CIV', 'KGZ', 'ZWE', 'BLZ', 'BWA', 'COK',\n",
       "       'NAM', 'BHR', 'AZE', 'FRO', 'GIN', 'BRB', 'KWT', 'ALB', 'PSE',\n",
       "       'SMR', 'MDG', 'CUW', 'CYM', 'LCA', 'BFA', 'QZZ', 'ZMB', 'NIC',\n",
       "       'SLV', 'GUF', 'VIR', 'MAC', 'BEN', 'ZAR', 'CPV', 'GHA', 'SUR',\n",
       "       'CMR', 'GNQ', 'COD', 'GAB', 'DZA', 'ANT', 'GMB', 'PCN', 'PAK',\n",
       "       'TCD', 'APT', 'GGY', 'RWA', 'DMA', 'TGO', 'HMD', 'GUY', 'AGB',\n",
       "       'MAF', 'BRN', 'IMN', 'ABW', 'TKM', 'BGD', 'JEY', 'MWI', 'GRD',\n",
       "       'KNA', 'VUT', 'PGB', 'VGB', 'SWZ', 'LSO', 'AIA', 'TON', 'SGB',\n",
       "       'SCH'], dtype=object)"
      ]
     },
     "execution_count": 74,
     "metadata": {},
     "output_type": "execute_result"
    }
   ],
   "source": [
    "trans['ea_merchant_country'].unique()\n"
   ]
  },
  {
   "cell_type": "code",
   "execution_count": null,
   "id": "fd45fd8f",
   "metadata": {},
   "outputs": [],
   "source": [
    "trans['ea_merchant_country'] = trans['ea_merchant_country'].fillna(\"UNKNOWN\")"
   ]
  },
  {
   "cell_type": "code",
   "execution_count": null,
   "id": "f34cbb1a",
   "metadata": {},
   "outputs": [
    {
     "data": {
      "text/plain": [
       "array(['INBOUND', 'OUTBOUND'], dtype=object)"
      ]
     },
     "execution_count": 76,
     "metadata": {},
     "output_type": "execute_result"
    }
   ],
   "source": [
    "trans['direction'].unique()\n"
   ]
  },
  {
   "cell_type": "code",
   "execution_count": null,
   "id": "8f0ff03e",
   "metadata": {},
   "outputs": [
    {
     "data": {
      "text/html": [
       "<div>\n",
       "<style scoped>\n",
       "    .dataframe tbody tr th:only-of-type {\n",
       "        vertical-align: middle;\n",
       "    }\n",
       "\n",
       "    .dataframe tbody tr th {\n",
       "        vertical-align: top;\n",
       "    }\n",
       "\n",
       "    .dataframe thead th {\n",
       "        text-align: right;\n",
       "    }\n",
       "</style>\n",
       "<table border=\"1\" class=\"dataframe\">\n",
       "  <thead>\n",
       "    <tr style=\"text-align: right;\">\n",
       "      <th></th>\n",
       "      <th>transaction_id</th>\n",
       "      <th>transactions_type</th>\n",
       "      <th>transactions_currency</th>\n",
       "      <th>amount_usd</th>\n",
       "      <th>transactions_state</th>\n",
       "      <th>ea_cardholderpresence</th>\n",
       "      <th>ea_merchant_mcc</th>\n",
       "      <th>ea_merchant_city</th>\n",
       "      <th>ea_merchant_country</th>\n",
       "      <th>direction</th>\n",
       "      <th>user_id</th>\n",
       "      <th>created_date</th>\n",
       "    </tr>\n",
       "  </thead>\n",
       "  <tbody>\n",
       "    <tr>\n",
       "      <th>0</th>\n",
       "      <td>1884</td>\n",
       "      <td>REFUND</td>\n",
       "      <td>AED</td>\n",
       "      <td>1.76</td>\n",
       "      <td>COMPLETED</td>\n",
       "      <td>False</td>\n",
       "      <td>NaN</td>\n",
       "      <td>None</td>\n",
       "      <td>UNKNOWN</td>\n",
       "      <td>INBOUND</td>\n",
       "      <td>8098</td>\n",
       "      <td>2018-09-25 16:03:40.978243</td>\n",
       "    </tr>\n",
       "  </tbody>\n",
       "</table>\n",
       "</div>"
      ],
      "text/plain": [
       "  transaction_id transactions_type transactions_currency  amount_usd  \\\n",
       "0           1884            REFUND                   AED        1.76   \n",
       "\n",
       "  transactions_state  ea_cardholderpresence  ea_merchant_mcc ea_merchant_city  \\\n",
       "0          COMPLETED                  False              NaN             None   \n",
       "\n",
       "  ea_merchant_country direction user_id               created_date  \n",
       "0             UNKNOWN   INBOUND    8098 2018-09-25 16:03:40.978243  "
      ]
     },
     "execution_count": 77,
     "metadata": {},
     "output_type": "execute_result"
    }
   ],
   "source": [
    "trans.head(1)"
   ]
  },
  {
   "cell_type": "code",
   "execution_count": null,
   "id": "45a5ec0b",
   "metadata": {},
   "outputs": [],
   "source": [
    "#drop some columns we don't need\n",
    "trans = trans.drop([\"ea_merchant_city\", \"ea_merchant_mcc\"], axis=1)\n"
   ]
  },
  {
   "cell_type": "code",
   "execution_count": null,
   "metadata": {},
   "outputs": [],
   "source": [
    "# convert id fields to integer as well\n",
    "trans['transaction_id'] = trans['transaction_id'].astype('int64')\n",
    "trans['user_id'] = trans['user_id'].astype('int64')"
   ]
  },
  {
   "cell_type": "code",
   "execution_count": null,
   "metadata": {},
   "outputs": [
    {
     "data": {
      "text/plain": [
       "transaction_id                    int64\n",
       "transactions_type                object\n",
       "transactions_currency            object\n",
       "amount_usd                      float64\n",
       "transactions_state               object\n",
       "ea_cardholderpresence              bool\n",
       "ea_merchant_country              object\n",
       "direction                        object\n",
       "user_id                           int64\n",
       "created_date             datetime64[ns]\n",
       "dtype: object"
      ]
     },
     "execution_count": 80,
     "metadata": {},
     "output_type": "execute_result"
    }
   ],
   "source": [
    "trans.dtypes"
   ]
  },
  {
   "cell_type": "code",
   "execution_count": null,
   "id": "9eee26bc",
   "metadata": {},
   "outputs": [],
   "source": [
    "#creates new clean file\n",
    "trans.to_parquet(\"/home/eberniczky/code/neo_bank/data/cleaned/transactions.parquet\", index=False)"
   ]
  },
  {
   "cell_type": "code",
   "execution_count": null,
   "id": "68689a01",
   "metadata": {},
   "outputs": [],
   "source": [
    "#######\n"
   ]
  },
  {
   "cell_type": "code",
   "execution_count": null,
   "id": "dae106ec",
   "metadata": {},
   "outputs": [],
   "source": [
    "validator = context.sources.pandas_default.read_parquet(\"/home/eberniczky/code/neo_bank/data/cleaned/transactions.parquet\")"
   ]
  },
  {
   "cell_type": "code",
   "execution_count": null,
   "id": "803423b0",
   "metadata": {},
   "outputs": [
    {
     "data": {
      "text/html": [
       "<div>\n",
       "<style scoped>\n",
       "    .dataframe tbody tr th:only-of-type {\n",
       "        vertical-align: middle;\n",
       "    }\n",
       "\n",
       "    .dataframe tbody tr th {\n",
       "        vertical-align: top;\n",
       "    }\n",
       "\n",
       "    .dataframe thead th {\n",
       "        text-align: right;\n",
       "    }\n",
       "</style>\n",
       "<table border=\"1\" class=\"dataframe\">\n",
       "  <thead>\n",
       "    <tr style=\"text-align: right;\">\n",
       "      <th></th>\n",
       "      <th>transaction_id</th>\n",
       "      <th>transactions_type</th>\n",
       "      <th>transactions_currency</th>\n",
       "      <th>amount_usd</th>\n",
       "      <th>transactions_state</th>\n",
       "      <th>ea_cardholderpresence</th>\n",
       "      <th>ea_merchant_country</th>\n",
       "      <th>direction</th>\n",
       "      <th>user_id</th>\n",
       "      <th>created_date</th>\n",
       "    </tr>\n",
       "  </thead>\n",
       "  <tbody>\n",
       "    <tr>\n",
       "      <th>0</th>\n",
       "      <td>1884</td>\n",
       "      <td>REFUND</td>\n",
       "      <td>AED</td>\n",
       "      <td>1.76</td>\n",
       "      <td>COMPLETED</td>\n",
       "      <td>False</td>\n",
       "      <td>UNKNOWN</td>\n",
       "      <td>INBOUND</td>\n",
       "      <td>8098</td>\n",
       "      <td>2018-09-25 16:03:40.978243</td>\n",
       "    </tr>\n",
       "    <tr>\n",
       "      <th>1</th>\n",
       "      <td>1728</td>\n",
       "      <td>REFUND</td>\n",
       "      <td>AED</td>\n",
       "      <td>639.31</td>\n",
       "      <td>COMPLETED</td>\n",
       "      <td>False</td>\n",
       "      <td>UNKNOWN</td>\n",
       "      <td>INBOUND</td>\n",
       "      <td>182</td>\n",
       "      <td>2018-03-31 13:45:25.262231</td>\n",
       "    </tr>\n",
       "  </tbody>\n",
       "</table>\n",
       "</div>"
      ],
      "text/plain": [
       "   transaction_id transactions_type transactions_currency  amount_usd  \\\n",
       "0            1884            REFUND                   AED        1.76   \n",
       "1            1728            REFUND                   AED      639.31   \n",
       "\n",
       "  transactions_state  ea_cardholderpresence ea_merchant_country direction  \\\n",
       "0          COMPLETED                  False             UNKNOWN   INBOUND   \n",
       "1          COMPLETED                  False             UNKNOWN   INBOUND   \n",
       "\n",
       "   user_id               created_date  \n",
       "0     8098 2018-09-25 16:03:40.978243  \n",
       "1      182 2018-03-31 13:45:25.262231  "
      ]
     },
     "execution_count": 84,
     "metadata": {},
     "output_type": "execute_result"
    }
   ],
   "source": [
    "trans.head(2)"
   ]
  },
  {
   "cell_type": "code",
   "execution_count": null,
   "id": "67bf0dbf",
   "metadata": {},
   "outputs": [
    {
     "data": {
      "application/vnd.jupyter.widget-view+json": {
       "model_id": "430d146a8f5747c885043641e594e33b",
       "version_major": 2,
       "version_minor": 0
      },
      "text/plain": [
       "Calculating Metrics:   0%|          | 0/6 [00:00<?, ?it/s]"
      ]
     },
     "metadata": {},
     "output_type": "display_data"
    },
    {
     "name": "stdout",
     "output_type": "stream",
     "text": [
      "Expectation for 'created_date': {\n",
      "  \"success\": true,\n",
      "  \"expectation_config\": {\n",
      "    \"expectation_type\": \"expect_column_values_to_not_be_null\",\n",
      "    \"kwargs\": {\n",
      "      \"column\": \"created_date\",\n",
      "      \"batch_id\": \"default_pandas_datasource-#ephemeral_pandas_asset\"\n",
      "    },\n",
      "    \"meta\": {}\n",
      "  },\n",
      "  \"result\": {\n",
      "    \"element_count\": 2740071,\n",
      "    \"unexpected_count\": 0,\n",
      "    \"unexpected_percent\": 0.0,\n",
      "    \"partial_unexpected_list\": []\n",
      "  },\n",
      "  \"meta\": {},\n",
      "  \"exception_info\": {\n",
      "    \"raised_exception\": false,\n",
      "    \"exception_traceback\": null,\n",
      "    \"exception_message\": null\n",
      "  }\n",
      "}\n"
     ]
    },
    {
     "data": {
      "application/vnd.jupyter.widget-view+json": {
       "model_id": "9b9c53f1638f4bc8890303dbe7da5404",
       "version_major": 2,
       "version_minor": 0
      },
      "text/plain": [
       "Calculating Metrics:   0%|          | 0/6 [00:00<?, ?it/s]"
      ]
     },
     "metadata": {},
     "output_type": "display_data"
    },
    {
     "name": "stdout",
     "output_type": "stream",
     "text": [
      "Expectation for 'user_id': {\n",
      "  \"success\": true,\n",
      "  \"expectation_config\": {\n",
      "    \"expectation_type\": \"expect_column_values_to_not_be_null\",\n",
      "    \"kwargs\": {\n",
      "      \"column\": \"user_id\",\n",
      "      \"batch_id\": \"default_pandas_datasource-#ephemeral_pandas_asset\"\n",
      "    },\n",
      "    \"meta\": {}\n",
      "  },\n",
      "  \"result\": {\n",
      "    \"element_count\": 2740071,\n",
      "    \"unexpected_count\": 0,\n",
      "    \"unexpected_percent\": 0.0,\n",
      "    \"partial_unexpected_list\": []\n",
      "  },\n",
      "  \"meta\": {},\n",
      "  \"exception_info\": {\n",
      "    \"raised_exception\": false,\n",
      "    \"exception_traceback\": null,\n",
      "    \"exception_message\": null\n",
      "  }\n",
      "}\n"
     ]
    },
    {
     "data": {
      "application/vnd.jupyter.widget-view+json": {
       "model_id": "dd87b86a10b64c2489dc37416373e2d6",
       "version_major": 2,
       "version_minor": 0
      },
      "text/plain": [
       "Calculating Metrics:   0%|          | 0/6 [00:00<?, ?it/s]"
      ]
     },
     "metadata": {},
     "output_type": "display_data"
    },
    {
     "name": "stdout",
     "output_type": "stream",
     "text": [
      "Expectation for 'transaction_id': {\n",
      "  \"success\": true,\n",
      "  \"expectation_config\": {\n",
      "    \"expectation_type\": \"expect_column_values_to_not_be_null\",\n",
      "    \"kwargs\": {\n",
      "      \"column\": \"transaction_id\",\n",
      "      \"batch_id\": \"default_pandas_datasource-#ephemeral_pandas_asset\"\n",
      "    },\n",
      "    \"meta\": {}\n",
      "  },\n",
      "  \"result\": {\n",
      "    \"element_count\": 2740071,\n",
      "    \"unexpected_count\": 0,\n",
      "    \"unexpected_percent\": 0.0,\n",
      "    \"partial_unexpected_list\": []\n",
      "  },\n",
      "  \"meta\": {},\n",
      "  \"exception_info\": {\n",
      "    \"raised_exception\": false,\n",
      "    \"exception_traceback\": null,\n",
      "    \"exception_message\": null\n",
      "  }\n",
      "}\n"
     ]
    },
    {
     "data": {
      "application/vnd.jupyter.widget-view+json": {
       "model_id": "5d586ba18ed84324a9d5cb7319fbd1a2",
       "version_major": 2,
       "version_minor": 0
      },
      "text/plain": [
       "Calculating Metrics:   0%|          | 0/6 [00:00<?, ?it/s]"
      ]
     },
     "metadata": {},
     "output_type": "display_data"
    },
    {
     "name": "stdout",
     "output_type": "stream",
     "text": [
      "Expectation for 'transactions_type': {\n",
      "  \"success\": true,\n",
      "  \"expectation_config\": {\n",
      "    \"expectation_type\": \"expect_column_values_to_not_be_null\",\n",
      "    \"kwargs\": {\n",
      "      \"column\": \"transactions_type\",\n",
      "      \"batch_id\": \"default_pandas_datasource-#ephemeral_pandas_asset\"\n",
      "    },\n",
      "    \"meta\": {}\n",
      "  },\n",
      "  \"result\": {\n",
      "    \"element_count\": 2740071,\n",
      "    \"unexpected_count\": 0,\n",
      "    \"unexpected_percent\": 0.0,\n",
      "    \"partial_unexpected_list\": []\n",
      "  },\n",
      "  \"meta\": {},\n",
      "  \"exception_info\": {\n",
      "    \"raised_exception\": false,\n",
      "    \"exception_traceback\": null,\n",
      "    \"exception_message\": null\n",
      "  }\n",
      "}\n"
     ]
    },
    {
     "data": {
      "application/vnd.jupyter.widget-view+json": {
       "model_id": "d24ae3f94ecc4bcb90c443a0bfee94e6",
       "version_major": 2,
       "version_minor": 0
      },
      "text/plain": [
       "Calculating Metrics:   0%|          | 0/6 [00:00<?, ?it/s]"
      ]
     },
     "metadata": {},
     "output_type": "display_data"
    },
    {
     "name": "stdout",
     "output_type": "stream",
     "text": [
      "Expectation for 'transactions_currency': {\n",
      "  \"success\": true,\n",
      "  \"expectation_config\": {\n",
      "    \"expectation_type\": \"expect_column_values_to_not_be_null\",\n",
      "    \"kwargs\": {\n",
      "      \"column\": \"transactions_currency\",\n",
      "      \"batch_id\": \"default_pandas_datasource-#ephemeral_pandas_asset\"\n",
      "    },\n",
      "    \"meta\": {}\n",
      "  },\n",
      "  \"result\": {\n",
      "    \"element_count\": 2740071,\n",
      "    \"unexpected_count\": 0,\n",
      "    \"unexpected_percent\": 0.0,\n",
      "    \"partial_unexpected_list\": []\n",
      "  },\n",
      "  \"meta\": {},\n",
      "  \"exception_info\": {\n",
      "    \"raised_exception\": false,\n",
      "    \"exception_traceback\": null,\n",
      "    \"exception_message\": null\n",
      "  }\n",
      "}\n"
     ]
    },
    {
     "data": {
      "application/vnd.jupyter.widget-view+json": {
       "model_id": "9320030c7d7a4f749db999e0245014e8",
       "version_major": 2,
       "version_minor": 0
      },
      "text/plain": [
       "Calculating Metrics:   0%|          | 0/6 [00:00<?, ?it/s]"
      ]
     },
     "metadata": {},
     "output_type": "display_data"
    },
    {
     "name": "stdout",
     "output_type": "stream",
     "text": [
      "Expectation for 'amount_usd': {\n",
      "  \"success\": true,\n",
      "  \"expectation_config\": {\n",
      "    \"expectation_type\": \"expect_column_values_to_not_be_null\",\n",
      "    \"kwargs\": {\n",
      "      \"column\": \"amount_usd\",\n",
      "      \"batch_id\": \"default_pandas_datasource-#ephemeral_pandas_asset\"\n",
      "    },\n",
      "    \"meta\": {}\n",
      "  },\n",
      "  \"result\": {\n",
      "    \"element_count\": 2740071,\n",
      "    \"unexpected_count\": 0,\n",
      "    \"unexpected_percent\": 0.0,\n",
      "    \"partial_unexpected_list\": []\n",
      "  },\n",
      "  \"meta\": {},\n",
      "  \"exception_info\": {\n",
      "    \"raised_exception\": false,\n",
      "    \"exception_traceback\": null,\n",
      "    \"exception_message\": null\n",
      "  }\n",
      "}\n"
     ]
    },
    {
     "data": {
      "application/vnd.jupyter.widget-view+json": {
       "model_id": "027c665c6f224269a63d5f73911209b0",
       "version_major": 2,
       "version_minor": 0
      },
      "text/plain": [
       "Calculating Metrics:   0%|          | 0/6 [00:00<?, ?it/s]"
      ]
     },
     "metadata": {},
     "output_type": "display_data"
    },
    {
     "name": "stdout",
     "output_type": "stream",
     "text": [
      "Expectation for 'transactions_state': {\n",
      "  \"success\": true,\n",
      "  \"expectation_config\": {\n",
      "    \"expectation_type\": \"expect_column_values_to_not_be_null\",\n",
      "    \"kwargs\": {\n",
      "      \"column\": \"transactions_state\",\n",
      "      \"batch_id\": \"default_pandas_datasource-#ephemeral_pandas_asset\"\n",
      "    },\n",
      "    \"meta\": {}\n",
      "  },\n",
      "  \"result\": {\n",
      "    \"element_count\": 2740071,\n",
      "    \"unexpected_count\": 0,\n",
      "    \"unexpected_percent\": 0.0,\n",
      "    \"partial_unexpected_list\": []\n",
      "  },\n",
      "  \"meta\": {},\n",
      "  \"exception_info\": {\n",
      "    \"raised_exception\": false,\n",
      "    \"exception_traceback\": null,\n",
      "    \"exception_message\": null\n",
      "  }\n",
      "}\n"
     ]
    },
    {
     "data": {
      "application/vnd.jupyter.widget-view+json": {
       "model_id": "e13d7818d4e14555a75074a1367e8798",
       "version_major": 2,
       "version_minor": 0
      },
      "text/plain": [
       "Calculating Metrics:   0%|          | 0/6 [00:00<?, ?it/s]"
      ]
     },
     "metadata": {},
     "output_type": "display_data"
    },
    {
     "name": "stdout",
     "output_type": "stream",
     "text": [
      "Expectation for 'ea_cardholderpresence': {\n",
      "  \"success\": true,\n",
      "  \"expectation_config\": {\n",
      "    \"expectation_type\": \"expect_column_values_to_not_be_null\",\n",
      "    \"kwargs\": {\n",
      "      \"column\": \"ea_cardholderpresence\",\n",
      "      \"batch_id\": \"default_pandas_datasource-#ephemeral_pandas_asset\"\n",
      "    },\n",
      "    \"meta\": {}\n",
      "  },\n",
      "  \"result\": {\n",
      "    \"element_count\": 2740071,\n",
      "    \"unexpected_count\": 0,\n",
      "    \"unexpected_percent\": 0.0,\n",
      "    \"partial_unexpected_list\": []\n",
      "  },\n",
      "  \"meta\": {},\n",
      "  \"exception_info\": {\n",
      "    \"raised_exception\": false,\n",
      "    \"exception_traceback\": null,\n",
      "    \"exception_message\": null\n",
      "  }\n",
      "}\n"
     ]
    },
    {
     "data": {
      "application/vnd.jupyter.widget-view+json": {
       "model_id": "221c518c77444add87c37ea65d5a4a38",
       "version_major": 2,
       "version_minor": 0
      },
      "text/plain": [
       "Calculating Metrics:   0%|          | 0/6 [00:00<?, ?it/s]"
      ]
     },
     "metadata": {},
     "output_type": "display_data"
    },
    {
     "name": "stdout",
     "output_type": "stream",
     "text": [
      "Expectation for 'ea_merchant_country': {\n",
      "  \"success\": true,\n",
      "  \"expectation_config\": {\n",
      "    \"expectation_type\": \"expect_column_values_to_not_be_null\",\n",
      "    \"kwargs\": {\n",
      "      \"column\": \"ea_merchant_country\",\n",
      "      \"batch_id\": \"default_pandas_datasource-#ephemeral_pandas_asset\"\n",
      "    },\n",
      "    \"meta\": {}\n",
      "  },\n",
      "  \"result\": {\n",
      "    \"element_count\": 2740071,\n",
      "    \"unexpected_count\": 0,\n",
      "    \"unexpected_percent\": 0.0,\n",
      "    \"partial_unexpected_list\": []\n",
      "  },\n",
      "  \"meta\": {},\n",
      "  \"exception_info\": {\n",
      "    \"raised_exception\": false,\n",
      "    \"exception_traceback\": null,\n",
      "    \"exception_message\": null\n",
      "  }\n",
      "}\n"
     ]
    }
   ],
   "source": [
    "for col in [\"created_date\", \"user_id\", \"transaction_id\",\"transactions_type\",\"transactions_currency\",\"amount_usd\",\"transactions_state\",\"ea_cardholderpresence\",\"ea_merchant_country\"]:\n",
    "    result = validator.expect_column_values_to_not_be_null(col)\n",
    "    print(f\"Expectation for '{col}':\", result)"
   ]
  },
  {
   "cell_type": "code",
   "execution_count": null,
   "metadata": {},
   "outputs": [
    {
     "data": {
      "application/vnd.jupyter.widget-view+json": {
       "model_id": "851f1542d8e14710b01f66cb5ed593a5",
       "version_major": 2,
       "version_minor": 0
      },
      "text/plain": [
       "Calculating Metrics:   0%|          | 0/8 [00:00<?, ?it/s]"
      ]
     },
     "metadata": {},
     "output_type": "display_data"
    },
    {
     "data": {
      "text/plain": [
       "{\n",
       "  \"success\": true,\n",
       "  \"result\": {\n",
       "    \"element_count\": 2740071,\n",
       "    \"unexpected_count\": 0,\n",
       "    \"unexpected_percent\": 0.0,\n",
       "    \"partial_unexpected_list\": [],\n",
       "    \"missing_count\": 0,\n",
       "    \"missing_percent\": 0.0,\n",
       "    \"unexpected_percent_total\": 0.0,\n",
       "    \"unexpected_percent_nonmissing\": 0.0\n",
       "  },\n",
       "  \"meta\": {},\n",
       "  \"exception_info\": {\n",
       "    \"raised_exception\": false,\n",
       "    \"exception_traceback\": null,\n",
       "    \"exception_message\": null\n",
       "  }\n",
       "}"
      ]
     },
     "execution_count": 86,
     "metadata": {},
     "output_type": "execute_result"
    }
   ],
   "source": [
    "validator.expect_column_values_to_be_unique(column='transaction_id')"
   ]
  },
  {
   "cell_type": "code",
   "execution_count": null,
   "metadata": {},
   "outputs": [
    {
     "data": {
      "application/vnd.jupyter.widget-view+json": {
       "model_id": "05538b77275342958c592e125e6e330c",
       "version_major": 2,
       "version_minor": 0
      },
      "text/plain": [
       "Calculating Metrics:   0%|          | 0/8 [00:00<?, ?it/s]"
      ]
     },
     "metadata": {},
     "output_type": "display_data"
    },
    {
     "data": {
      "text/plain": [
       "{\n",
       "  \"success\": false,\n",
       "  \"result\": {\n",
       "    \"element_count\": 2740071,\n",
       "    \"unexpected_count\": 2739825,\n",
       "    \"unexpected_percent\": 99.99102213044844,\n",
       "    \"partial_unexpected_list\": [\n",
       "      8098,\n",
       "      182,\n",
       "      14271,\n",
       "      4773,\n",
       "      1363,\n",
       "      4773,\n",
       "      13141,\n",
       "      4773,\n",
       "      16303,\n",
       "      4773,\n",
       "      4773,\n",
       "      5496,\n",
       "      13246,\n",
       "      6009,\n",
       "      6009,\n",
       "      10943,\n",
       "      6009,\n",
       "      4399,\n",
       "      5718,\n",
       "      1363\n",
       "    ],\n",
       "    \"missing_count\": 0,\n",
       "    \"missing_percent\": 0.0,\n",
       "    \"unexpected_percent_total\": 99.99102213044844,\n",
       "    \"unexpected_percent_nonmissing\": 99.99102213044844\n",
       "  },\n",
       "  \"meta\": {},\n",
       "  \"exception_info\": {\n",
       "    \"raised_exception\": false,\n",
       "    \"exception_traceback\": null,\n",
       "    \"exception_message\": null\n",
       "  }\n",
       "}"
      ]
     },
     "execution_count": 87,
     "metadata": {},
     "output_type": "execute_result"
    }
   ],
   "source": [
    "validator.expect_column_values_to_be_unique(column='user_id')"
   ]
  },
  {
   "cell_type": "code",
   "execution_count": null,
   "id": "2e8d4ad4",
   "metadata": {},
   "outputs": [
    {
     "data": {
      "text/plain": [
       "Timestamp('2018-01-01 08:51:10.248709')"
      ]
     },
     "execution_count": 88,
     "metadata": {},
     "output_type": "execute_result"
    }
   ],
   "source": [
    "trans['created_date'].min()"
   ]
  },
  {
   "cell_type": "code",
   "execution_count": null,
   "id": "300c6b4f",
   "metadata": {},
   "outputs": [
    {
     "data": {
      "text/plain": [
       "Timestamp('2019-05-16 18:22:16.959896')"
      ]
     },
     "execution_count": 89,
     "metadata": {},
     "output_type": "execute_result"
    }
   ],
   "source": [
    "trans['created_date'].max()"
   ]
  },
  {
   "cell_type": "code",
   "execution_count": null,
   "id": "d4b3c946",
   "metadata": {},
   "outputs": [
    {
     "data": {
      "text/plain": [
       "0"
      ]
     },
     "execution_count": 90,
     "metadata": {},
     "output_type": "execute_result"
    }
   ],
   "source": [
    "trans['created_date'].isnull().sum()"
   ]
  },
  {
   "cell_type": "code",
   "execution_count": null,
   "metadata": {},
   "outputs": [
    {
     "data": {
      "text/plain": [
       "0"
      ]
     },
     "execution_count": 91,
     "metadata": {},
     "output_type": "execute_result"
    }
   ],
   "source": [
    "trans['ea_cardholderpresence'].isnull().sum()"
   ]
  },
  {
   "cell_type": "markdown",
   "id": "b086a3e9",
   "metadata": {},
   "source": [
    "## Users"
   ]
  },
  {
   "cell_type": "code",
   "execution_count": null,
   "id": "3de8af1c",
   "metadata": {},
   "outputs": [
    {
     "data": {
      "text/html": [
       "<div>\n",
       "<style scoped>\n",
       "    .dataframe tbody tr th:only-of-type {\n",
       "        vertical-align: middle;\n",
       "    }\n",
       "\n",
       "    .dataframe tbody tr th {\n",
       "        vertical-align: top;\n",
       "    }\n",
       "\n",
       "    .dataframe thead th {\n",
       "        text-align: right;\n",
       "    }\n",
       "</style>\n",
       "<table border=\"1\" class=\"dataframe\">\n",
       "  <thead>\n",
       "    <tr style=\"text-align: right;\">\n",
       "      <th></th>\n",
       "      <th>user_id</th>\n",
       "      <th>birth_year</th>\n",
       "      <th>country</th>\n",
       "      <th>city</th>\n",
       "      <th>created_date</th>\n",
       "      <th>user_settings_crypto_unlocked</th>\n",
       "      <th>plan</th>\n",
       "      <th>attributes_notifications_marketing_push</th>\n",
       "      <th>attributes_notifications_marketing_email</th>\n",
       "      <th>num_contacts</th>\n",
       "      <th>num_referrals</th>\n",
       "      <th>num_successful_referrals</th>\n",
       "    </tr>\n",
       "  </thead>\n",
       "  <tbody>\n",
       "    <tr>\n",
       "      <th>0</th>\n",
       "      <td>2811</td>\n",
       "      <td>1988</td>\n",
       "      <td>IE</td>\n",
       "      <td>C</td>\n",
       "      <td>2018-03-04 21:46:39.616834</td>\n",
       "      <td>0</td>\n",
       "      <td>STANDARD</td>\n",
       "      <td>NaN</td>\n",
       "      <td>NaN</td>\n",
       "      <td>0</td>\n",
       "      <td>0</td>\n",
       "      <td>0</td>\n",
       "    </tr>\n",
       "    <tr>\n",
       "      <th>1</th>\n",
       "      <td>4750</td>\n",
       "      <td>1987</td>\n",
       "      <td>FR</td>\n",
       "      <td>Ry</td>\n",
       "      <td>2018-04-07 06:49:18.345736</td>\n",
       "      <td>0</td>\n",
       "      <td>STANDARD</td>\n",
       "      <td>NaN</td>\n",
       "      <td>NaN</td>\n",
       "      <td>0</td>\n",
       "      <td>0</td>\n",
       "      <td>0</td>\n",
       "    </tr>\n",
       "    <tr>\n",
       "      <th>2</th>\n",
       "      <td>17686</td>\n",
       "      <td>1984</td>\n",
       "      <td>GB</td>\n",
       "      <td>Ayr</td>\n",
       "      <td>2018-12-04 10:28:02.653147</td>\n",
       "      <td>0</td>\n",
       "      <td>PREMIUM</td>\n",
       "      <td>NaN</td>\n",
       "      <td>NaN</td>\n",
       "      <td>6</td>\n",
       "      <td>0</td>\n",
       "      <td>0</td>\n",
       "    </tr>\n",
       "    <tr>\n",
       "      <th>3</th>\n",
       "      <td>18779</td>\n",
       "      <td>1965</td>\n",
       "      <td>GB</td>\n",
       "      <td>Ayr</td>\n",
       "      <td>2018-12-31 07:42:19.353613</td>\n",
       "      <td>0</td>\n",
       "      <td>STANDARD</td>\n",
       "      <td>NaN</td>\n",
       "      <td>NaN</td>\n",
       "      <td>0</td>\n",
       "      <td>0</td>\n",
       "      <td>0</td>\n",
       "    </tr>\n",
       "    <tr>\n",
       "      <th>4</th>\n",
       "      <td>7823</td>\n",
       "      <td>1999</td>\n",
       "      <td>PL</td>\n",
       "      <td>Buk</td>\n",
       "      <td>2018-06-07 03:22:40.590209</td>\n",
       "      <td>0</td>\n",
       "      <td>STANDARD</td>\n",
       "      <td>NaN</td>\n",
       "      <td>NaN</td>\n",
       "      <td>0</td>\n",
       "      <td>0</td>\n",
       "      <td>0</td>\n",
       "    </tr>\n",
       "  </tbody>\n",
       "</table>\n",
       "</div>"
      ],
      "text/plain": [
       "   user_id  birth_year country city               created_date  \\\n",
       "0     2811        1988      IE    C 2018-03-04 21:46:39.616834   \n",
       "1     4750        1987      FR   Ry 2018-04-07 06:49:18.345736   \n",
       "2    17686        1984      GB  Ayr 2018-12-04 10:28:02.653147   \n",
       "3    18779        1965      GB  Ayr 2018-12-31 07:42:19.353613   \n",
       "4     7823        1999      PL  Buk 2018-06-07 03:22:40.590209   \n",
       "\n",
       "   user_settings_crypto_unlocked      plan  \\\n",
       "0                              0  STANDARD   \n",
       "1                              0  STANDARD   \n",
       "2                              0   PREMIUM   \n",
       "3                              0  STANDARD   \n",
       "4                              0  STANDARD   \n",
       "\n",
       "   attributes_notifications_marketing_push  \\\n",
       "0                                      NaN   \n",
       "1                                      NaN   \n",
       "2                                      NaN   \n",
       "3                                      NaN   \n",
       "4                                      NaN   \n",
       "\n",
       "   attributes_notifications_marketing_email  num_contacts  num_referrals  \\\n",
       "0                                       NaN             0              0   \n",
       "1                                       NaN             0              0   \n",
       "2                                       NaN             6              0   \n",
       "3                                       NaN             0              0   \n",
       "4                                       NaN             0              0   \n",
       "\n",
       "   num_successful_referrals  \n",
       "0                         0  \n",
       "1                         0  \n",
       "2                         0  \n",
       "3                         0  \n",
       "4                         0  "
      ]
     },
     "execution_count": 92,
     "metadata": {},
     "output_type": "execute_result"
    }
   ],
   "source": [
    "users.head()"
   ]
  },
  {
   "cell_type": "code",
   "execution_count": null,
   "id": "e680e34a",
   "metadata": {},
   "outputs": [
    {
     "data": {
      "text/plain": [
       "1929"
      ]
     },
     "execution_count": 93,
     "metadata": {},
     "output_type": "execute_result"
    }
   ],
   "source": [
    "users['birth_year'].min()"
   ]
  },
  {
   "cell_type": "code",
   "execution_count": null,
   "id": "a0265829",
   "metadata": {},
   "outputs": [
    {
     "data": {
      "text/plain": [
       "2001"
      ]
     },
     "execution_count": 94,
     "metadata": {},
     "output_type": "execute_result"
    }
   ],
   "source": [
    "users['birth_year'].max()"
   ]
  },
  {
   "cell_type": "code",
   "execution_count": null,
   "id": "dfd22ad6",
   "metadata": {},
   "outputs": [],
   "source": [
    "users.drop(columns={'city'},inplace=True)"
   ]
  },
  {
   "cell_type": "code",
   "execution_count": null,
   "id": "da403779",
   "metadata": {},
   "outputs": [
    {
     "data": {
      "text/plain": [
       "array(['STANDARD', 'PREMIUM', 'METAL', 'METAL_FREE', 'PREMIUM_OFFER',\n",
       "       'PREMIUM_FREE'], dtype=object)"
      ]
     },
     "execution_count": 96,
     "metadata": {},
     "output_type": "execute_result"
    }
   ],
   "source": [
    "users['plan'].unique()"
   ]
  },
  {
   "cell_type": "code",
   "execution_count": null,
   "id": "83dc8d6b",
   "metadata": {},
   "outputs": [
    {
     "data": {
      "text/plain": [
       "array([0, 1])"
      ]
     },
     "execution_count": 97,
     "metadata": {},
     "output_type": "execute_result"
    }
   ],
   "source": [
    "users['user_settings_crypto_unlocked'].unique()"
   ]
  },
  {
   "cell_type": "code",
   "execution_count": null,
   "metadata": {},
   "outputs": [],
   "source": [
    "users['user_settings_crypto_unlocked'] = users['user_settings_crypto_unlocked'].astype('boolean')"
   ]
  },
  {
   "cell_type": "code",
   "execution_count": null,
   "id": "4b9024f3",
   "metadata": {},
   "outputs": [
    {
     "data": {
      "text/plain": [
       "array([nan,  1.,  0.])"
      ]
     },
     "execution_count": 99,
     "metadata": {},
     "output_type": "execute_result"
    }
   ],
   "source": [
    "users['attributes_notifications_marketing_push'].unique()"
   ]
  },
  {
   "cell_type": "code",
   "execution_count": null,
   "id": "53e06a05",
   "metadata": {},
   "outputs": [],
   "source": [
    "users['attributes_notifications_marketing_push'] = users['attributes_notifications_marketing_push'].round().astype('boolean')\n"
   ]
  },
  {
   "cell_type": "code",
   "execution_count": null,
   "id": "239d7ac9",
   "metadata": {},
   "outputs": [
    {
     "data": {
      "text/plain": [
       "array([nan,  0.,  1.])"
      ]
     },
     "execution_count": 101,
     "metadata": {},
     "output_type": "execute_result"
    }
   ],
   "source": [
    "users['attributes_notifications_marketing_email'].unique()"
   ]
  },
  {
   "cell_type": "code",
   "execution_count": null,
   "id": "0f9a0250",
   "metadata": {},
   "outputs": [],
   "source": [
    "users['attributes_notifications_marketing_email'] = users['attributes_notifications_marketing_email'].astype('boolean')\n"
   ]
  },
  {
   "cell_type": "code",
   "execution_count": null,
   "id": "49bc2be9",
   "metadata": {},
   "outputs": [
    {
     "data": {
      "text/plain": [
       "0"
      ]
     },
     "execution_count": 103,
     "metadata": {},
     "output_type": "execute_result"
    }
   ],
   "source": [
    "users['num_contacts'].min()"
   ]
  },
  {
   "cell_type": "code",
   "execution_count": null,
   "id": "24c7af9f",
   "metadata": {},
   "outputs": [
    {
     "data": {
      "text/plain": [
       "2918"
      ]
     },
     "execution_count": 104,
     "metadata": {},
     "output_type": "execute_result"
    }
   ],
   "source": [
    "users['num_contacts'].max()"
   ]
  },
  {
   "cell_type": "code",
   "execution_count": null,
   "id": "b2e2d106",
   "metadata": {},
   "outputs": [
    {
     "data": {
      "text/plain": [
       "array([0])"
      ]
     },
     "execution_count": 105,
     "metadata": {},
     "output_type": "execute_result"
    }
   ],
   "source": [
    "users['num_referrals'].unique()"
   ]
  },
  {
   "cell_type": "code",
   "execution_count": null,
   "id": "e188bc20",
   "metadata": {},
   "outputs": [
    {
     "data": {
      "text/plain": [
       "0"
      ]
     },
     "execution_count": 106,
     "metadata": {},
     "output_type": "execute_result"
    }
   ],
   "source": [
    "users['num_referrals'].min()"
   ]
  },
  {
   "cell_type": "code",
   "execution_count": null,
   "id": "d0ff60cb",
   "metadata": {},
   "outputs": [
    {
     "data": {
      "text/plain": [
       "0"
      ]
     },
     "execution_count": 107,
     "metadata": {},
     "output_type": "execute_result"
    }
   ],
   "source": [
    "users['num_referrals'].max()"
   ]
  },
  {
   "cell_type": "code",
   "execution_count": null,
   "id": "55245ff1",
   "metadata": {},
   "outputs": [],
   "source": [
    "users.drop(columns={'num_referrals'},inplace=True)"
   ]
  },
  {
   "cell_type": "code",
   "execution_count": null,
   "id": "4fb70af9",
   "metadata": {},
   "outputs": [
    {
     "data": {
      "text/plain": [
       "0"
      ]
     },
     "execution_count": 109,
     "metadata": {},
     "output_type": "execute_result"
    }
   ],
   "source": [
    "users['num_successful_referrals'].min()"
   ]
  },
  {
   "cell_type": "code",
   "execution_count": null,
   "id": "5e55e91f",
   "metadata": {},
   "outputs": [
    {
     "data": {
      "text/plain": [
       "0"
      ]
     },
     "execution_count": 110,
     "metadata": {},
     "output_type": "execute_result"
    }
   ],
   "source": [
    "users['num_successful_referrals'].max()"
   ]
  },
  {
   "cell_type": "code",
   "execution_count": null,
   "id": "0a55f8df",
   "metadata": {},
   "outputs": [],
   "source": [
    "users.drop(columns={'num_successful_referrals'},inplace=True)"
   ]
  },
  {
   "cell_type": "code",
   "execution_count": null,
   "id": "041c64c2",
   "metadata": {},
   "outputs": [
    {
     "data": {
      "text/plain": [
       "array(['IE', 'FR', 'GB', 'PL', 'ES', 'NO', 'BE', 'SI', 'IT', 'RO', 'CH',\n",
       "       'DE', 'CZ', 'HU', 'GR', 'NL', 'MT', 'SE', 'PT', 'LT', 'FI', 'LV',\n",
       "       'EE', 'AT', 'CY', 'HR', 'LU', 'BG', 'DK', 'GG', 'GP', 'JE', 'AU',\n",
       "       'SK', 'LI', 'IM', 'IS', 'GI', 'MQ', 'GF', 'RE'], dtype=object)"
      ]
     },
     "execution_count": 112,
     "metadata": {},
     "output_type": "execute_result"
    }
   ],
   "source": [
    "users['country'].unique()"
   ]
  },
  {
   "cell_type": "code",
   "execution_count": null,
   "id": "2c6680e2",
   "metadata": {},
   "outputs": [
    {
     "data": {
      "text/plain": [
       "Timestamp('2018-01-01 08:42:24.799709')"
      ]
     },
     "execution_count": 113,
     "metadata": {},
     "output_type": "execute_result"
    }
   ],
   "source": [
    "users['created_date'].min()"
   ]
  },
  {
   "cell_type": "code",
   "execution_count": null,
   "id": "8205ec4c",
   "metadata": {},
   "outputs": [
    {
     "data": {
      "text/plain": [
       "Timestamp('2019-01-03 07:34:36.638892')"
      ]
     },
     "execution_count": 114,
     "metadata": {},
     "output_type": "execute_result"
    }
   ],
   "source": [
    "users['created_date'].max()"
   ]
  },
  {
   "cell_type": "code",
   "execution_count": null,
   "id": "60fb92d1",
   "metadata": {},
   "outputs": [],
   "source": [
    "#creates new clean file\n",
    "users.to_parquet(\"/home/eberniczky/code/neo_bank/data/cleaned/users.parquet\", index=False)"
   ]
  },
  {
   "cell_type": "code",
   "execution_count": null,
   "id": "300fe7ec",
   "metadata": {},
   "outputs": [],
   "source": [
    "#####"
   ]
  },
  {
   "cell_type": "code",
   "execution_count": null,
   "id": "0f996eea",
   "metadata": {},
   "outputs": [
    {
     "data": {
      "text/plain": [
       "Index(['user_id', 'birth_year', 'country', 'created_date',\n",
       "       'user_settings_crypto_unlocked', 'plan',\n",
       "       'attributes_notifications_marketing_push',\n",
       "       'attributes_notifications_marketing_email', 'num_contacts'],\n",
       "      dtype='object')"
      ]
     },
     "execution_count": 117,
     "metadata": {},
     "output_type": "execute_result"
    }
   ],
   "source": [
    "users.columns"
   ]
  },
  {
   "cell_type": "code",
   "execution_count": null,
   "id": "9165720d",
   "metadata": {},
   "outputs": [],
   "source": [
    "validator = context.sources.pandas_default.read_parquet(\"/home/eberniczky/code/neo_bank/data/cleaned/users.parquet\")"
   ]
  },
  {
   "cell_type": "code",
   "execution_count": null,
   "id": "8a1e0ece",
   "metadata": {},
   "outputs": [
    {
     "data": {
      "application/vnd.jupyter.widget-view+json": {
       "model_id": "1db892dbc5894b92833c5f6ec69905ab",
       "version_major": 2,
       "version_minor": 0
      },
      "text/plain": [
       "Calculating Metrics:   0%|          | 0/6 [00:00<?, ?it/s]"
      ]
     },
     "metadata": {},
     "output_type": "display_data"
    },
    {
     "name": "stdout",
     "output_type": "stream",
     "text": [
      "Expectation for 'user_id': {\n",
      "  \"success\": true,\n",
      "  \"expectation_config\": {\n",
      "    \"expectation_type\": \"expect_column_values_to_not_be_null\",\n",
      "    \"kwargs\": {\n",
      "      \"column\": \"user_id\",\n",
      "      \"batch_id\": \"default_pandas_datasource-#ephemeral_pandas_asset\"\n",
      "    },\n",
      "    \"meta\": {}\n",
      "  },\n",
      "  \"result\": {\n",
      "    \"element_count\": 19430,\n",
      "    \"unexpected_count\": 0,\n",
      "    \"unexpected_percent\": 0.0,\n",
      "    \"partial_unexpected_list\": []\n",
      "  },\n",
      "  \"meta\": {},\n",
      "  \"exception_info\": {\n",
      "    \"raised_exception\": false,\n",
      "    \"exception_traceback\": null,\n",
      "    \"exception_message\": null\n",
      "  }\n",
      "}\n"
     ]
    },
    {
     "data": {
      "application/vnd.jupyter.widget-view+json": {
       "model_id": "53e08f69ea734a19b62a181c2a9aba31",
       "version_major": 2,
       "version_minor": 0
      },
      "text/plain": [
       "Calculating Metrics:   0%|          | 0/6 [00:00<?, ?it/s]"
      ]
     },
     "metadata": {},
     "output_type": "display_data"
    },
    {
     "name": "stdout",
     "output_type": "stream",
     "text": [
      "Expectation for 'birth_year': {\n",
      "  \"success\": true,\n",
      "  \"expectation_config\": {\n",
      "    \"expectation_type\": \"expect_column_values_to_not_be_null\",\n",
      "    \"kwargs\": {\n",
      "      \"column\": \"birth_year\",\n",
      "      \"batch_id\": \"default_pandas_datasource-#ephemeral_pandas_asset\"\n",
      "    },\n",
      "    \"meta\": {}\n",
      "  },\n",
      "  \"result\": {\n",
      "    \"element_count\": 19430,\n",
      "    \"unexpected_count\": 0,\n",
      "    \"unexpected_percent\": 0.0,\n",
      "    \"partial_unexpected_list\": []\n",
      "  },\n",
      "  \"meta\": {},\n",
      "  \"exception_info\": {\n",
      "    \"raised_exception\": false,\n",
      "    \"exception_traceback\": null,\n",
      "    \"exception_message\": null\n",
      "  }\n",
      "}\n"
     ]
    },
    {
     "data": {
      "application/vnd.jupyter.widget-view+json": {
       "model_id": "12c35bc3394740cabadd6489e4a943ba",
       "version_major": 2,
       "version_minor": 0
      },
      "text/plain": [
       "Calculating Metrics:   0%|          | 0/6 [00:00<?, ?it/s]"
      ]
     },
     "metadata": {},
     "output_type": "display_data"
    },
    {
     "name": "stdout",
     "output_type": "stream",
     "text": [
      "Expectation for 'country': {\n",
      "  \"success\": true,\n",
      "  \"expectation_config\": {\n",
      "    \"expectation_type\": \"expect_column_values_to_not_be_null\",\n",
      "    \"kwargs\": {\n",
      "      \"column\": \"country\",\n",
      "      \"batch_id\": \"default_pandas_datasource-#ephemeral_pandas_asset\"\n",
      "    },\n",
      "    \"meta\": {}\n",
      "  },\n",
      "  \"result\": {\n",
      "    \"element_count\": 19430,\n",
      "    \"unexpected_count\": 0,\n",
      "    \"unexpected_percent\": 0.0,\n",
      "    \"partial_unexpected_list\": []\n",
      "  },\n",
      "  \"meta\": {},\n",
      "  \"exception_info\": {\n",
      "    \"raised_exception\": false,\n",
      "    \"exception_traceback\": null,\n",
      "    \"exception_message\": null\n",
      "  }\n",
      "}\n"
     ]
    },
    {
     "data": {
      "application/vnd.jupyter.widget-view+json": {
       "model_id": "dbe14944e5a54f0aabfed58fa44fa723",
       "version_major": 2,
       "version_minor": 0
      },
      "text/plain": [
       "Calculating Metrics:   0%|          | 0/6 [00:00<?, ?it/s]"
      ]
     },
     "metadata": {},
     "output_type": "display_data"
    },
    {
     "name": "stdout",
     "output_type": "stream",
     "text": [
      "Expectation for 'created_date': {\n",
      "  \"success\": true,\n",
      "  \"expectation_config\": {\n",
      "    \"expectation_type\": \"expect_column_values_to_not_be_null\",\n",
      "    \"kwargs\": {\n",
      "      \"column\": \"created_date\",\n",
      "      \"batch_id\": \"default_pandas_datasource-#ephemeral_pandas_asset\"\n",
      "    },\n",
      "    \"meta\": {}\n",
      "  },\n",
      "  \"result\": {\n",
      "    \"element_count\": 19430,\n",
      "    \"unexpected_count\": 0,\n",
      "    \"unexpected_percent\": 0.0,\n",
      "    \"partial_unexpected_list\": []\n",
      "  },\n",
      "  \"meta\": {},\n",
      "  \"exception_info\": {\n",
      "    \"raised_exception\": false,\n",
      "    \"exception_traceback\": null,\n",
      "    \"exception_message\": null\n",
      "  }\n",
      "}\n"
     ]
    },
    {
     "data": {
      "application/vnd.jupyter.widget-view+json": {
       "model_id": "2a9e028710a848a4bbbba473fc75cd6a",
       "version_major": 2,
       "version_minor": 0
      },
      "text/plain": [
       "Calculating Metrics:   0%|          | 0/6 [00:00<?, ?it/s]"
      ]
     },
     "metadata": {},
     "output_type": "display_data"
    },
    {
     "name": "stdout",
     "output_type": "stream",
     "text": [
      "Expectation for 'user_settings_crypto_unlocked': {\n",
      "  \"success\": true,\n",
      "  \"expectation_config\": {\n",
      "    \"expectation_type\": \"expect_column_values_to_not_be_null\",\n",
      "    \"kwargs\": {\n",
      "      \"column\": \"user_settings_crypto_unlocked\",\n",
      "      \"batch_id\": \"default_pandas_datasource-#ephemeral_pandas_asset\"\n",
      "    },\n",
      "    \"meta\": {}\n",
      "  },\n",
      "  \"result\": {\n",
      "    \"element_count\": 19430,\n",
      "    \"unexpected_count\": 0,\n",
      "    \"unexpected_percent\": 0.0,\n",
      "    \"partial_unexpected_list\": []\n",
      "  },\n",
      "  \"meta\": {},\n",
      "  \"exception_info\": {\n",
      "    \"raised_exception\": false,\n",
      "    \"exception_traceback\": null,\n",
      "    \"exception_message\": null\n",
      "  }\n",
      "}\n"
     ]
    },
    {
     "data": {
      "application/vnd.jupyter.widget-view+json": {
       "model_id": "b1adf4e4a34147159ed9729485c248d8",
       "version_major": 2,
       "version_minor": 0
      },
      "text/plain": [
       "Calculating Metrics:   0%|          | 0/6 [00:00<?, ?it/s]"
      ]
     },
     "metadata": {},
     "output_type": "display_data"
    },
    {
     "name": "stdout",
     "output_type": "stream",
     "text": [
      "Expectation for 'plan': {\n",
      "  \"success\": true,\n",
      "  \"expectation_config\": {\n",
      "    \"expectation_type\": \"expect_column_values_to_not_be_null\",\n",
      "    \"kwargs\": {\n",
      "      \"column\": \"plan\",\n",
      "      \"batch_id\": \"default_pandas_datasource-#ephemeral_pandas_asset\"\n",
      "    },\n",
      "    \"meta\": {}\n",
      "  },\n",
      "  \"result\": {\n",
      "    \"element_count\": 19430,\n",
      "    \"unexpected_count\": 0,\n",
      "    \"unexpected_percent\": 0.0,\n",
      "    \"partial_unexpected_list\": []\n",
      "  },\n",
      "  \"meta\": {},\n",
      "  \"exception_info\": {\n",
      "    \"raised_exception\": false,\n",
      "    \"exception_traceback\": null,\n",
      "    \"exception_message\": null\n",
      "  }\n",
      "}\n"
     ]
    },
    {
     "data": {
      "application/vnd.jupyter.widget-view+json": {
       "model_id": "3c6c164de60a44f8a964766559f19386",
       "version_major": 2,
       "version_minor": 0
      },
      "text/plain": [
       "Calculating Metrics:   0%|          | 0/6 [00:00<?, ?it/s]"
      ]
     },
     "metadata": {},
     "output_type": "display_data"
    },
    {
     "name": "stdout",
     "output_type": "stream",
     "text": [
      "Expectation for 'num_contacts': {\n",
      "  \"success\": true,\n",
      "  \"expectation_config\": {\n",
      "    \"expectation_type\": \"expect_column_values_to_not_be_null\",\n",
      "    \"kwargs\": {\n",
      "      \"column\": \"num_contacts\",\n",
      "      \"batch_id\": \"default_pandas_datasource-#ephemeral_pandas_asset\"\n",
      "    },\n",
      "    \"meta\": {}\n",
      "  },\n",
      "  \"result\": {\n",
      "    \"element_count\": 19430,\n",
      "    \"unexpected_count\": 0,\n",
      "    \"unexpected_percent\": 0.0,\n",
      "    \"partial_unexpected_list\": []\n",
      "  },\n",
      "  \"meta\": {},\n",
      "  \"exception_info\": {\n",
      "    \"raised_exception\": false,\n",
      "    \"exception_traceback\": null,\n",
      "    \"exception_message\": null\n",
      "  }\n",
      "}\n"
     ]
    }
   ],
   "source": [
    "for col in [\"user_id\", \"birth_year\",\"country\",\"created_date\",\"user_settings_crypto_unlocked\",\"plan\",\"num_contacts\"]:\n",
    "    result = validator.expect_column_values_to_not_be_null(col)\n",
    "    print(f\"Expectation for '{col}':\", result)"
   ]
  },
  {
   "cell_type": "code",
   "execution_count": null,
   "id": "d13bbc95",
   "metadata": {},
   "outputs": [
    {
     "data": {
      "application/vnd.jupyter.widget-view+json": {
       "model_id": "b116238640a84b87be1dfe0fac65e59a",
       "version_major": 2,
       "version_minor": 0
      },
      "text/plain": [
       "Calculating Metrics:   0%|          | 0/8 [00:00<?, ?it/s]"
      ]
     },
     "metadata": {},
     "output_type": "display_data"
    },
    {
     "data": {
      "text/plain": [
       "{\n",
       "  \"success\": true,\n",
       "  \"result\": {\n",
       "    \"element_count\": 19430,\n",
       "    \"unexpected_count\": 0,\n",
       "    \"unexpected_percent\": 0.0,\n",
       "    \"partial_unexpected_list\": [],\n",
       "    \"missing_count\": 0,\n",
       "    \"missing_percent\": 0.0,\n",
       "    \"unexpected_percent_total\": 0.0,\n",
       "    \"unexpected_percent_nonmissing\": 0.0\n",
       "  },\n",
       "  \"meta\": {},\n",
       "  \"exception_info\": {\n",
       "    \"raised_exception\": false,\n",
       "    \"exception_traceback\": null,\n",
       "    \"exception_message\": null\n",
       "  }\n",
       "}"
      ]
     },
     "execution_count": 120,
     "metadata": {},
     "output_type": "execute_result"
    }
   ],
   "source": [
    "validator.expect_column_values_to_be_unique(column='user_id')"
   ]
  },
  {
   "cell_type": "markdown",
   "id": "5f19727c",
   "metadata": {},
   "source": [
    "## Notifications"
   ]
  },
  {
   "cell_type": "code",
   "execution_count": null,
   "id": "69665ed7",
   "metadata": {},
   "outputs": [
    {
     "data": {
      "text/html": [
       "<div>\n",
       "<style scoped>\n",
       "    .dataframe tbody tr th:only-of-type {\n",
       "        vertical-align: middle;\n",
       "    }\n",
       "\n",
       "    .dataframe tbody tr th {\n",
       "        vertical-align: top;\n",
       "    }\n",
       "\n",
       "    .dataframe thead th {\n",
       "        text-align: right;\n",
       "    }\n",
       "</style>\n",
       "<table border=\"1\" class=\"dataframe\">\n",
       "  <thead>\n",
       "    <tr style=\"text-align: right;\">\n",
       "      <th></th>\n",
       "      <th>reason</th>\n",
       "      <th>channel</th>\n",
       "      <th>status</th>\n",
       "      <th>user_id</th>\n",
       "      <th>created_date</th>\n",
       "    </tr>\n",
       "  </thead>\n",
       "  <tbody>\n",
       "    <tr>\n",
       "      <th>0</th>\n",
       "      <td>METAL_RESERVE_PLAN</td>\n",
       "      <td>SMS</td>\n",
       "      <td>SENT</td>\n",
       "      <td>4703</td>\n",
       "      <td>2018-10-14 01:48:13.319987</td>\n",
       "    </tr>\n",
       "    <tr>\n",
       "      <th>1</th>\n",
       "      <td>METAL_RESERVE_PLAN</td>\n",
       "      <td>SMS</td>\n",
       "      <td>SENT</td>\n",
       "      <td>2397</td>\n",
       "      <td>2018-10-17 08:07:05.709072</td>\n",
       "    </tr>\n",
       "    <tr>\n",
       "      <th>2</th>\n",
       "      <td>METAL_RESERVE_PLAN</td>\n",
       "      <td>SMS</td>\n",
       "      <td>SENT</td>\n",
       "      <td>2411</td>\n",
       "      <td>2018-10-14 03:46:34.244392</td>\n",
       "    </tr>\n",
       "    <tr>\n",
       "      <th>3</th>\n",
       "      <td>METAL_RESERVE_PLAN</td>\n",
       "      <td>SMS</td>\n",
       "      <td>SENT</td>\n",
       "      <td>1119</td>\n",
       "      <td>2018-10-14 14:16:35.801185</td>\n",
       "    </tr>\n",
       "    <tr>\n",
       "      <th>4</th>\n",
       "      <td>METAL_RESERVE_PLAN</td>\n",
       "      <td>SMS</td>\n",
       "      <td>SENT</td>\n",
       "      <td>3499</td>\n",
       "      <td>2018-10-14 18:41:09.268675</td>\n",
       "    </tr>\n",
       "  </tbody>\n",
       "</table>\n",
       "</div>"
      ],
      "text/plain": [
       "               reason channel status user_id               created_date\n",
       "0  METAL_RESERVE_PLAN     SMS   SENT    4703 2018-10-14 01:48:13.319987\n",
       "1  METAL_RESERVE_PLAN     SMS   SENT    2397 2018-10-17 08:07:05.709072\n",
       "2  METAL_RESERVE_PLAN     SMS   SENT    2411 2018-10-14 03:46:34.244392\n",
       "3  METAL_RESERVE_PLAN     SMS   SENT    1119 2018-10-14 14:16:35.801185\n",
       "4  METAL_RESERVE_PLAN     SMS   SENT    3499 2018-10-14 18:41:09.268675"
      ]
     },
     "execution_count": 121,
     "metadata": {},
     "output_type": "execute_result"
    }
   ],
   "source": [
    "notifs.head()"
   ]
  },
  {
   "cell_type": "code",
   "execution_count": null,
   "id": "0814887d",
   "metadata": {},
   "outputs": [
    {
     "data": {
      "text/plain": [
       "array(['METAL_RESERVE_PLAN', 'REENGAGEMENT_ACTIVE_FUNDS', 'BLACK_FRIDAY',\n",
       "       'LOST_CARD_ORDER', 'FIFTH_PAYMENT_PROMO', 'JOINING_ANNIVERSARY',\n",
       "       'PUMPKIN_PAYMENT_NOTIFICATION', 'PREMIUM_ENGAGEMENT_FEES_SAVED',\n",
       "       'PREMIUM_ENGAGEMENT_INACTIVE_CARD', 'WELCOME_HOME',\n",
       "       'METAL_GAME_START', 'NO_INITIAL_CARD_USE', 'NO_INITIAL_CARD_ORDER',\n",
       "       'ONBOARDING_TIPS_ACTIVATED_USERS',\n",
       "       'ENGAGEMENT_SPLIT_BILL_RESTAURANT',\n",
       "       'MADE_MONEY_REQUEST_NOT_SPLIT_BILL',\n",
       "       'NO_INITIAL_FREE_PROMOPAGE_CARD_ORDER'], dtype=object)"
      ]
     },
     "execution_count": 122,
     "metadata": {},
     "output_type": "execute_result"
    }
   ],
   "source": [
    "notifs['reason'].unique()"
   ]
  },
  {
   "cell_type": "code",
   "execution_count": null,
   "id": "56b9acfb",
   "metadata": {},
   "outputs": [
    {
     "data": {
      "text/plain": [
       "array(['SMS', 'PUSH', 'EMAIL'], dtype=object)"
      ]
     },
     "execution_count": 123,
     "metadata": {},
     "output_type": "execute_result"
    }
   ],
   "source": [
    "notifs['channel'].unique()"
   ]
  },
  {
   "cell_type": "code",
   "execution_count": null,
   "id": "878bb73b",
   "metadata": {},
   "outputs": [
    {
     "data": {
      "text/plain": [
       "array(['SENT', 'FAILED'], dtype=object)"
      ]
     },
     "execution_count": 124,
     "metadata": {},
     "output_type": "execute_result"
    }
   ],
   "source": [
    "notifs['status'].unique()"
   ]
  },
  {
   "cell_type": "code",
   "execution_count": null,
   "id": "14d10bfb",
   "metadata": {},
   "outputs": [
    {
     "data": {
      "text/plain": [
       "0"
      ]
     },
     "execution_count": 125,
     "metadata": {},
     "output_type": "execute_result"
    }
   ],
   "source": [
    "notifs['user_id'].isnull().sum()"
   ]
  },
  {
   "cell_type": "code",
   "execution_count": null,
   "id": "bfa6f767",
   "metadata": {},
   "outputs": [
    {
     "data": {
      "text/plain": [
       "0"
      ]
     },
     "execution_count": 126,
     "metadata": {},
     "output_type": "execute_result"
    }
   ],
   "source": [
    "notifs['created_date'].isnull().sum()"
   ]
  },
  {
   "cell_type": "code",
   "execution_count": null,
   "id": "f3a35da5",
   "metadata": {},
   "outputs": [
    {
     "data": {
      "text/plain": [
       "reason                  object\n",
       "channel                 object\n",
       "status                  object\n",
       "user_id                 object\n",
       "created_date    datetime64[ns]\n",
       "dtype: object"
      ]
     },
     "execution_count": 127,
     "metadata": {},
     "output_type": "execute_result"
    }
   ],
   "source": [
    "notifs.dtypes"
   ]
  },
  {
   "cell_type": "code",
   "execution_count": null,
   "id": "0102b2c3",
   "metadata": {},
   "outputs": [],
   "source": [
    "notifs['created_date'] = pd.to_datetime(notifs['created_date'],errors='coerce').dt.tz_localize(None)"
   ]
  },
  {
   "cell_type": "code",
   "execution_count": null,
   "id": "2a8cc479",
   "metadata": {},
   "outputs": [
    {
     "name": "stdout",
     "output_type": "stream",
     "text": [
      "Min length: 1\n",
      "Max length: 5\n",
      "User IDs with the shortest length:\n",
      "<IntegerArray>\n",
      "[1, 6, 4, 0, 5, 3, 7, 9, 8, 2]\n",
      "Length: 10, dtype: Int64\n",
      "User IDs with the longest length:\n",
      "<IntegerArray>\n",
      "[11885, 15533, 11964, 10670, 19220, 14587, 15593, 12295, 12617, 18270,\n",
      " ...\n",
      " 13121, 15790, 10442, 15105, 10984, 13531, 12568, 12296, 19056, 12199]\n",
      "Length: 9430, dtype: Int64\n"
     ]
    }
   ],
   "source": [
    "#checking that all user_ids are a standard length\n",
    "lengths = notifs[\"user_id\"].astype(str).str.len()\n",
    "\n",
    "min_len = lengths.min()\n",
    "max_len = lengths.max()\n",
    "\n",
    "print(f\"Min length: {min_len}\")\n",
    "print(f\"Max length: {max_len}\")\n",
    "\n",
    "print(\"User IDs with the shortest length:\")\n",
    "print(devices[devices[\"user_id\"].astype(str).str.len() == min_len][\"user_id\"].unique())\n",
    "print(\"User IDs with the longest length:\")\n",
    "print(devices[devices[\"user_id\"].astype(str).str.len() == max_len][\"user_id\"].unique())"
   ]
  },
  {
   "cell_type": "code",
   "execution_count": null,
   "metadata": {},
   "outputs": [
    {
     "data": {
      "text/plain": [
       "True"
      ]
     },
     "execution_count": 130,
     "metadata": {},
     "output_type": "execute_result"
    }
   ],
   "source": [
    "# Check if all user_id s are numeric\n",
    "mask = notifs['user_id'].str.isnumeric()\n",
    "all_numeric = mask.all()\n",
    "all_numeric"
   ]
  },
  {
   "cell_type": "code",
   "execution_count": null,
   "metadata": {},
   "outputs": [],
   "source": [
    "# Then cast integer to the field\n",
    "notifs['user_id'] = notifs['user_id'].astype('int64')"
   ]
  },
  {
   "cell_type": "code",
   "execution_count": null,
   "metadata": {},
   "outputs": [
    {
     "data": {
      "text/plain": [
       "reason                  object\n",
       "channel                 object\n",
       "status                  object\n",
       "user_id                  int64\n",
       "created_date    datetime64[ns]\n",
       "dtype: object"
      ]
     },
     "execution_count": 132,
     "metadata": {},
     "output_type": "execute_result"
    }
   ],
   "source": [
    "notifs.dtypes"
   ]
  },
  {
   "cell_type": "code",
   "execution_count": null,
   "id": "5be33ad1",
   "metadata": {},
   "outputs": [],
   "source": [
    "#creates new clean file\n",
    "notifs.to_parquet(\"/home/eberniczky/code/neo_bank/data/cleaned/notifications.parquet\", index=False)"
   ]
  },
  {
   "cell_type": "code",
   "execution_count": null,
   "id": "6f06da01",
   "metadata": {},
   "outputs": [],
   "source": [
    "#####"
   ]
  },
  {
   "cell_type": "code",
   "execution_count": null,
   "id": "cca603bc",
   "metadata": {},
   "outputs": [],
   "source": [
    "validator = context.sources.pandas_default.read_parquet(\"/home/eberniczky/code/neo_bank/data/cleaned/notifications.parquet\")"
   ]
  },
  {
   "cell_type": "code",
   "execution_count": null,
   "id": "686c1b04",
   "metadata": {},
   "outputs": [
    {
     "data": {
      "text/html": [
       "<div>\n",
       "<style scoped>\n",
       "    .dataframe tbody tr th:only-of-type {\n",
       "        vertical-align: middle;\n",
       "    }\n",
       "\n",
       "    .dataframe tbody tr th {\n",
       "        vertical-align: top;\n",
       "    }\n",
       "\n",
       "    .dataframe thead th {\n",
       "        text-align: right;\n",
       "    }\n",
       "</style>\n",
       "<table border=\"1\" class=\"dataframe\">\n",
       "  <thead>\n",
       "    <tr style=\"text-align: right;\">\n",
       "      <th></th>\n",
       "      <th>reason</th>\n",
       "      <th>channel</th>\n",
       "      <th>status</th>\n",
       "      <th>user_id</th>\n",
       "      <th>created_date</th>\n",
       "    </tr>\n",
       "  </thead>\n",
       "  <tbody>\n",
       "    <tr>\n",
       "      <th>0</th>\n",
       "      <td>METAL_RESERVE_PLAN</td>\n",
       "      <td>SMS</td>\n",
       "      <td>SENT</td>\n",
       "      <td>4703</td>\n",
       "      <td>2018-10-14 01:48:13.319987</td>\n",
       "    </tr>\n",
       "    <tr>\n",
       "      <th>1</th>\n",
       "      <td>METAL_RESERVE_PLAN</td>\n",
       "      <td>SMS</td>\n",
       "      <td>SENT</td>\n",
       "      <td>2397</td>\n",
       "      <td>2018-10-17 08:07:05.709072</td>\n",
       "    </tr>\n",
       "  </tbody>\n",
       "</table>\n",
       "</div>"
      ],
      "text/plain": [
       "               reason channel status  user_id               created_date\n",
       "0  METAL_RESERVE_PLAN     SMS   SENT     4703 2018-10-14 01:48:13.319987\n",
       "1  METAL_RESERVE_PLAN     SMS   SENT     2397 2018-10-17 08:07:05.709072"
      ]
     },
     "execution_count": 136,
     "metadata": {},
     "output_type": "execute_result"
    }
   ],
   "source": [
    "notifs.head(2)"
   ]
  },
  {
   "cell_type": "code",
   "execution_count": null,
   "id": "7c539116",
   "metadata": {},
   "outputs": [
    {
     "data": {
      "application/vnd.jupyter.widget-view+json": {
       "model_id": "716ab949fb024253a8e3c920bfccf265",
       "version_major": 2,
       "version_minor": 0
      },
      "text/plain": [
       "Calculating Metrics:   0%|          | 0/6 [00:00<?, ?it/s]"
      ]
     },
     "metadata": {},
     "output_type": "display_data"
    },
    {
     "name": "stdout",
     "output_type": "stream",
     "text": [
      "Expectation for 'reason': {\n",
      "  \"success\": true,\n",
      "  \"expectation_config\": {\n",
      "    \"expectation_type\": \"expect_column_values_to_not_be_null\",\n",
      "    \"kwargs\": {\n",
      "      \"column\": \"reason\",\n",
      "      \"batch_id\": \"default_pandas_datasource-#ephemeral_pandas_asset\"\n",
      "    },\n",
      "    \"meta\": {}\n",
      "  },\n",
      "  \"result\": {\n",
      "    \"element_count\": 121813,\n",
      "    \"unexpected_count\": 0,\n",
      "    \"unexpected_percent\": 0.0,\n",
      "    \"partial_unexpected_list\": []\n",
      "  },\n",
      "  \"meta\": {},\n",
      "  \"exception_info\": {\n",
      "    \"raised_exception\": false,\n",
      "    \"exception_traceback\": null,\n",
      "    \"exception_message\": null\n",
      "  }\n",
      "}\n"
     ]
    },
    {
     "data": {
      "application/vnd.jupyter.widget-view+json": {
       "model_id": "24df4745570344cd8d2dc8a743165b18",
       "version_major": 2,
       "version_minor": 0
      },
      "text/plain": [
       "Calculating Metrics:   0%|          | 0/6 [00:00<?, ?it/s]"
      ]
     },
     "metadata": {},
     "output_type": "display_data"
    },
    {
     "name": "stdout",
     "output_type": "stream",
     "text": [
      "Expectation for 'channel': {\n",
      "  \"success\": true,\n",
      "  \"expectation_config\": {\n",
      "    \"expectation_type\": \"expect_column_values_to_not_be_null\",\n",
      "    \"kwargs\": {\n",
      "      \"column\": \"channel\",\n",
      "      \"batch_id\": \"default_pandas_datasource-#ephemeral_pandas_asset\"\n",
      "    },\n",
      "    \"meta\": {}\n",
      "  },\n",
      "  \"result\": {\n",
      "    \"element_count\": 121813,\n",
      "    \"unexpected_count\": 0,\n",
      "    \"unexpected_percent\": 0.0,\n",
      "    \"partial_unexpected_list\": []\n",
      "  },\n",
      "  \"meta\": {},\n",
      "  \"exception_info\": {\n",
      "    \"raised_exception\": false,\n",
      "    \"exception_traceback\": null,\n",
      "    \"exception_message\": null\n",
      "  }\n",
      "}\n"
     ]
    },
    {
     "data": {
      "application/vnd.jupyter.widget-view+json": {
       "model_id": "d57d95f2bc874fbba5a7fab743c6ca5f",
       "version_major": 2,
       "version_minor": 0
      },
      "text/plain": [
       "Calculating Metrics:   0%|          | 0/6 [00:00<?, ?it/s]"
      ]
     },
     "metadata": {},
     "output_type": "display_data"
    },
    {
     "name": "stdout",
     "output_type": "stream",
     "text": [
      "Expectation for 'status': {\n",
      "  \"success\": true,\n",
      "  \"expectation_config\": {\n",
      "    \"expectation_type\": \"expect_column_values_to_not_be_null\",\n",
      "    \"kwargs\": {\n",
      "      \"column\": \"status\",\n",
      "      \"batch_id\": \"default_pandas_datasource-#ephemeral_pandas_asset\"\n",
      "    },\n",
      "    \"meta\": {}\n",
      "  },\n",
      "  \"result\": {\n",
      "    \"element_count\": 121813,\n",
      "    \"unexpected_count\": 0,\n",
      "    \"unexpected_percent\": 0.0,\n",
      "    \"partial_unexpected_list\": []\n",
      "  },\n",
      "  \"meta\": {},\n",
      "  \"exception_info\": {\n",
      "    \"raised_exception\": false,\n",
      "    \"exception_traceback\": null,\n",
      "    \"exception_message\": null\n",
      "  }\n",
      "}\n"
     ]
    },
    {
     "data": {
      "application/vnd.jupyter.widget-view+json": {
       "model_id": "334be07aa5af469c8113696f19a56382",
       "version_major": 2,
       "version_minor": 0
      },
      "text/plain": [
       "Calculating Metrics:   0%|          | 0/6 [00:00<?, ?it/s]"
      ]
     },
     "metadata": {},
     "output_type": "display_data"
    },
    {
     "name": "stdout",
     "output_type": "stream",
     "text": [
      "Expectation for 'created_date': {\n",
      "  \"success\": true,\n",
      "  \"expectation_config\": {\n",
      "    \"expectation_type\": \"expect_column_values_to_not_be_null\",\n",
      "    \"kwargs\": {\n",
      "      \"column\": \"created_date\",\n",
      "      \"batch_id\": \"default_pandas_datasource-#ephemeral_pandas_asset\"\n",
      "    },\n",
      "    \"meta\": {}\n",
      "  },\n",
      "  \"result\": {\n",
      "    \"element_count\": 121813,\n",
      "    \"unexpected_count\": 0,\n",
      "    \"unexpected_percent\": 0.0,\n",
      "    \"partial_unexpected_list\": []\n",
      "  },\n",
      "  \"meta\": {},\n",
      "  \"exception_info\": {\n",
      "    \"raised_exception\": false,\n",
      "    \"exception_traceback\": null,\n",
      "    \"exception_message\": null\n",
      "  }\n",
      "}\n"
     ]
    },
    {
     "data": {
      "application/vnd.jupyter.widget-view+json": {
       "model_id": "476825a5fafe4c9cbf39794909da9ea0",
       "version_major": 2,
       "version_minor": 0
      },
      "text/plain": [
       "Calculating Metrics:   0%|          | 0/6 [00:00<?, ?it/s]"
      ]
     },
     "metadata": {},
     "output_type": "display_data"
    },
    {
     "name": "stdout",
     "output_type": "stream",
     "text": [
      "Expectation for 'user_id': {\n",
      "  \"success\": true,\n",
      "  \"expectation_config\": {\n",
      "    \"expectation_type\": \"expect_column_values_to_not_be_null\",\n",
      "    \"kwargs\": {\n",
      "      \"column\": \"user_id\",\n",
      "      \"batch_id\": \"default_pandas_datasource-#ephemeral_pandas_asset\"\n",
      "    },\n",
      "    \"meta\": {}\n",
      "  },\n",
      "  \"result\": {\n",
      "    \"element_count\": 121813,\n",
      "    \"unexpected_count\": 0,\n",
      "    \"unexpected_percent\": 0.0,\n",
      "    \"partial_unexpected_list\": []\n",
      "  },\n",
      "  \"meta\": {},\n",
      "  \"exception_info\": {\n",
      "    \"raised_exception\": false,\n",
      "    \"exception_traceback\": null,\n",
      "    \"exception_message\": null\n",
      "  }\n",
      "}\n"
     ]
    }
   ],
   "source": [
    "for col in [\"reason\", \"channel\",\"status\",\"created_date\",\"user_id\"]:\n",
    "    result = validator.expect_column_values_to_not_be_null(col)\n",
    "    print(f\"Expectation for '{col}':\", result)"
   ]
  },
  {
   "cell_type": "markdown",
   "id": "acb4972b",
   "metadata": {},
   "source": [
    "# Sending Cleaned Data to GCP Cloud Storage Bucket"
   ]
  },
  {
   "cell_type": "code",
   "execution_count": null,
   "id": "bce1e751",
   "metadata": {},
   "outputs": [
    {
     "data": {
      "text/plain": [
       "False"
      ]
     },
     "execution_count": 138,
     "metadata": {},
     "output_type": "execute_result"
    }
   ],
   "source": [
    "from dotenv import load_dotenv\n",
    "\n",
    "load_dotenv(override=True)"
   ]
  },
  {
   "cell_type": "code",
   "execution_count": null,
   "id": "d4196422",
   "metadata": {},
   "outputs": [
    {
     "name": "stdout",
     "output_type": "stream",
     "text": [
      "/home/denizgokalp.5/.gcp_keys/le-wagon-de-bootcamp.json\n"
     ]
    }
   ],
   "source": [
    "print(os.getenv('GOOGLE_APPLICATION_CREDENTIALS'))"
   ]
  },
  {
   "cell_type": "code",
   "execution_count": null,
   "id": "9dd37785",
   "metadata": {},
   "outputs": [],
   "source": [
    "from google.cloud import storage"
   ]
  },
  {
   "cell_type": "code",
   "execution_count": null,
   "id": "9f3d7740",
   "metadata": {},
   "outputs": [],
   "source": [
    "def upload_to_gcs(bucket_name, source_file_path, destination_blob_name):\n",
    "    \"\"\"Uploads a file to the GCS bucket.\"\"\"\n",
    "    client = storage.Client()\n",
    "    bucket = client.bucket(bucket_name)\n",
    "\n",
    "    # Add filename if destination is a \"folder\"\n",
    "    if destination_blob_name.endswith(\"/\"):\n",
    "        filename = os.path.basename(source_file_path)\n",
    "        destination_blob_name += filename\n",
    "\n",
    "\n",
    "    blob = bucket.blob(destination_blob_name)\n",
    "    blob.upload_from_filename(source_file_path)\n",
    "\n",
    "    print(f\"Uploaded {source_file_path} to gs://{bucket_name}/{destination_blob_name}\")"
   ]
  },
  {
   "cell_type": "code",
   "execution_count": null,
   "id": "5b2af5b2",
   "metadata": {},
   "outputs": [],
   "source": [
    "# #For single file\n",
    "# upload_to_gcs(\n",
    "#     bucket_name=\"neobank_data_bucket\",\n",
    "#     source_file_path=\"/home/neobanking2025/projects/neo_bank/data/cleaned/transactions.parquet\",\n",
    "#     destination_blob_name=\"staging_data/\"\n",
    "# )"
   ]
  },
  {
   "cell_type": "code",
   "execution_count": null,
   "id": "f845f7dd",
   "metadata": {},
   "outputs": [],
   "source": [
    "files_to_upload = [\n",
    "    \"transactions.parquet\",\n",
    "    \"users.parquet\",\n",
    "    \"notifications.parquet\",\n",
    "    \"devices.parquet\"\n",
    "]"
   ]
  },
  {
   "cell_type": "code",
   "execution_count": null,
   "id": "d202affe",
   "metadata": {},
   "outputs": [
    {
     "name": "stdout",
     "output_type": "stream",
     "text": [
      "Uploaded /home/denizgokalp.5/code/mitchell5/neo_bank/data/cleaned/transactions.parquet to gs://neobank_data_bucket_deniz/data/transactions.parquet\n",
      "Uploaded /home/denizgokalp.5/code/mitchell5/neo_bank/data/cleaned/users.parquet to gs://neobank_data_bucket_deniz/data/users.parquet\n",
      "Uploaded /home/denizgokalp.5/code/mitchell5/neo_bank/data/cleaned/notifications.parquet to gs://neobank_data_bucket_deniz/data/notifications.parquet\n",
      "Uploaded /home/denizgokalp.5/code/mitchell5/neo_bank/data/cleaned/devices.parquet to gs://neobank_data_bucket_deniz/data/devices.parquet\n"
     ]
    }
   ],
   "source": [
    "#for multiple files\n",
    "for filename in files_to_upload:\n",
    "    source_path = f\"/home/eberniczky/code/neo_bank/data/cleaned/{filename}\"\n",
    "    upload_to_gcs(\n",
    "        bucket_name=\"neobank_data_bucket\",\n",
    "        source_file_path=source_path,\n",
    "        destination_blob_name=\"data/\"\n",
    "    )\n"
   ]
  },
  {
   "cell_type": "code",
   "execution_count": null,
   "id": "ac014e73",
   "metadata": {},
   "outputs": [
    {
     "name": "stdout",
     "output_type": "stream",
     "text": [
      "data/devices.parquet\n",
      "data/notifications.parquet\n",
      "data/transactions.parquet\n",
      "data/users.parquet\n"
     ]
    }
   ],
   "source": [
    "#checking it worked\n",
    "\n",
    "client = storage.Client()\n",
    "bucket = client.bucket(\"neobank_data_bucket\")\n",
    "\n",
    "blobs = list(bucket.list_blobs(prefix=\"data/\"))\n",
    "\n",
    "for blob in blobs:\n",
    "    print(blob.name)\n"
   ]
  },
  {
   "cell_type": "code",
   "execution_count": null,
   "id": "f4d20766",
   "metadata": {},
   "outputs": [
    {
     "name": "stdout",
     "output_type": "stream",
     "text": [
      "/home/denizgokalp.5/code/mitchell5/neo_bank/part_1-data_exploration\n"
     ]
    }
   ],
   "source": [
    "!pwd"
   ]
  },
  {
   "cell_type": "code",
   "execution_count": null,
   "metadata": {},
   "outputs": [
    {
     "name": "stdout",
     "output_type": "stream",
     "text": [
      "/home/denizgokalp.5/code/mitchell5/neo_bank/part_1-data_exploration/.venv/bin/python\n"
     ]
    }
   ],
   "source": [
    "!which python"
   ]
  },
  {
   "cell_type": "code",
   "execution_count": null,
   "id": "e736920e",
   "metadata": {},
   "outputs": [
    {
     "data": {
      "text/html": [
       "<div>\n",
       "<style scoped>\n",
       "    .dataframe tbody tr th:only-of-type {\n",
       "        vertical-align: middle;\n",
       "    }\n",
       "\n",
       "    .dataframe tbody tr th {\n",
       "        vertical-align: top;\n",
       "    }\n",
       "\n",
       "    .dataframe thead th {\n",
       "        text-align: right;\n",
       "    }\n",
       "</style>\n",
       "<table border=\"1\" class=\"dataframe\">\n",
       "  <thead>\n",
       "    <tr style=\"text-align: right;\">\n",
       "      <th></th>\n",
       "      <th>device_type</th>\n",
       "      <th>user_id</th>\n",
       "    </tr>\n",
       "  </thead>\n",
       "  <tbody>\n",
       "    <tr>\n",
       "      <th>0</th>\n",
       "      <td>Apple</td>\n",
       "      <td>6809</td>\n",
       "    </tr>\n",
       "    <tr>\n",
       "      <th>1</th>\n",
       "      <td>Apple</td>\n",
       "      <td>3636</td>\n",
       "    </tr>\n",
       "    <tr>\n",
       "      <th>2</th>\n",
       "      <td>Apple</td>\n",
       "      <td>510</td>\n",
       "    </tr>\n",
       "    <tr>\n",
       "      <th>3</th>\n",
       "      <td>Apple</td>\n",
       "      <td>3468</td>\n",
       "    </tr>\n",
       "    <tr>\n",
       "      <th>4</th>\n",
       "      <td>Apple</td>\n",
       "      <td>7036</td>\n",
       "    </tr>\n",
       "  </tbody>\n",
       "</table>\n",
       "</div>"
      ],
      "text/plain": [
       "  device_type  user_id\n",
       "0       Apple     6809\n",
       "1       Apple     3636\n",
       "2       Apple      510\n",
       "3       Apple     3468\n",
       "4       Apple     7036"
      ]
     },
     "execution_count": 148,
     "metadata": {},
     "output_type": "execute_result"
    }
   ],
   "source": [
    "devices.head()"
   ]
  },
  {
   "cell_type": "code",
   "execution_count": null,
   "id": "55602382",
   "metadata": {},
   "outputs": [
    {
     "data": {
      "text/html": [
       "<div>\n",
       "<style scoped>\n",
       "    .dataframe tbody tr th:only-of-type {\n",
       "        vertical-align: middle;\n",
       "    }\n",
       "\n",
       "    .dataframe tbody tr th {\n",
       "        vertical-align: top;\n",
       "    }\n",
       "\n",
       "    .dataframe thead th {\n",
       "        text-align: right;\n",
       "    }\n",
       "</style>\n",
       "<table border=\"1\" class=\"dataframe\">\n",
       "  <thead>\n",
       "    <tr style=\"text-align: right;\">\n",
       "      <th></th>\n",
       "      <th>transaction_id</th>\n",
       "      <th>transactions_type</th>\n",
       "      <th>transactions_currency</th>\n",
       "      <th>amount_usd</th>\n",
       "      <th>transactions_state</th>\n",
       "      <th>ea_cardholderpresence</th>\n",
       "      <th>ea_merchant_country</th>\n",
       "      <th>direction</th>\n",
       "      <th>user_id</th>\n",
       "      <th>created_date</th>\n",
       "    </tr>\n",
       "  </thead>\n",
       "  <tbody>\n",
       "    <tr>\n",
       "      <th>0</th>\n",
       "      <td>1884</td>\n",
       "      <td>REFUND</td>\n",
       "      <td>AED</td>\n",
       "      <td>1.76</td>\n",
       "      <td>COMPLETED</td>\n",
       "      <td>False</td>\n",
       "      <td>UNKNOWN</td>\n",
       "      <td>INBOUND</td>\n",
       "      <td>8098</td>\n",
       "      <td>2018-09-25 16:03:40.978243</td>\n",
       "    </tr>\n",
       "    <tr>\n",
       "      <th>1</th>\n",
       "      <td>1728</td>\n",
       "      <td>REFUND</td>\n",
       "      <td>AED</td>\n",
       "      <td>639.31</td>\n",
       "      <td>COMPLETED</td>\n",
       "      <td>False</td>\n",
       "      <td>UNKNOWN</td>\n",
       "      <td>INBOUND</td>\n",
       "      <td>182</td>\n",
       "      <td>2018-03-31 13:45:25.262231</td>\n",
       "    </tr>\n",
       "    <tr>\n",
       "      <th>2</th>\n",
       "      <td>1755782</td>\n",
       "      <td>REFUND</td>\n",
       "      <td>AED</td>\n",
       "      <td>3.49</td>\n",
       "      <td>COMPLETED</td>\n",
       "      <td>False</td>\n",
       "      <td>UNKNOWN</td>\n",
       "      <td>INBOUND</td>\n",
       "      <td>14271</td>\n",
       "      <td>2018-11-17 16:47:25.748975</td>\n",
       "    </tr>\n",
       "    <tr>\n",
       "      <th>3</th>\n",
       "      <td>1973</td>\n",
       "      <td>TOPUP</td>\n",
       "      <td>AED</td>\n",
       "      <td>6079.39</td>\n",
       "      <td>COMPLETED</td>\n",
       "      <td>False</td>\n",
       "      <td>UNKNOWN</td>\n",
       "      <td>INBOUND</td>\n",
       "      <td>4773</td>\n",
       "      <td>2018-08-13 21:51:28.670363</td>\n",
       "    </tr>\n",
       "    <tr>\n",
       "      <th>4</th>\n",
       "      <td>1716</td>\n",
       "      <td>TOPUP</td>\n",
       "      <td>AED</td>\n",
       "      <td>206.65</td>\n",
       "      <td>COMPLETED</td>\n",
       "      <td>False</td>\n",
       "      <td>UNKNOWN</td>\n",
       "      <td>INBOUND</td>\n",
       "      <td>1363</td>\n",
       "      <td>2018-10-30 14:34:57.479895</td>\n",
       "    </tr>\n",
       "  </tbody>\n",
       "</table>\n",
       "</div>"
      ],
      "text/plain": [
       "   transaction_id transactions_type transactions_currency  amount_usd  \\\n",
       "0            1884            REFUND                   AED        1.76   \n",
       "1            1728            REFUND                   AED      639.31   \n",
       "2         1755782            REFUND                   AED        3.49   \n",
       "3            1973             TOPUP                   AED     6079.39   \n",
       "4            1716             TOPUP                   AED      206.65   \n",
       "\n",
       "  transactions_state  ea_cardholderpresence ea_merchant_country direction  \\\n",
       "0          COMPLETED                  False             UNKNOWN   INBOUND   \n",
       "1          COMPLETED                  False             UNKNOWN   INBOUND   \n",
       "2          COMPLETED                  False             UNKNOWN   INBOUND   \n",
       "3          COMPLETED                  False             UNKNOWN   INBOUND   \n",
       "4          COMPLETED                  False             UNKNOWN   INBOUND   \n",
       "\n",
       "   user_id               created_date  \n",
       "0     8098 2018-09-25 16:03:40.978243  \n",
       "1      182 2018-03-31 13:45:25.262231  \n",
       "2    14271 2018-11-17 16:47:25.748975  \n",
       "3     4773 2018-08-13 21:51:28.670363  \n",
       "4     1363 2018-10-30 14:34:57.479895  "
      ]
     },
     "execution_count": 149,
     "metadata": {},
     "output_type": "execute_result"
    }
   ],
   "source": [
    "trans.head()"
   ]
  },
  {
   "cell_type": "code",
   "execution_count": null,
   "id": "1793415b",
   "metadata": {},
   "outputs": [
    {
     "data": {
      "text/html": [
       "<div>\n",
       "<style scoped>\n",
       "    .dataframe tbody tr th:only-of-type {\n",
       "        vertical-align: middle;\n",
       "    }\n",
       "\n",
       "    .dataframe tbody tr th {\n",
       "        vertical-align: top;\n",
       "    }\n",
       "\n",
       "    .dataframe thead th {\n",
       "        text-align: right;\n",
       "    }\n",
       "</style>\n",
       "<table border=\"1\" class=\"dataframe\">\n",
       "  <thead>\n",
       "    <tr style=\"text-align: right;\">\n",
       "      <th></th>\n",
       "      <th>reason</th>\n",
       "      <th>channel</th>\n",
       "      <th>status</th>\n",
       "      <th>user_id</th>\n",
       "      <th>created_date</th>\n",
       "    </tr>\n",
       "  </thead>\n",
       "  <tbody>\n",
       "    <tr>\n",
       "      <th>0</th>\n",
       "      <td>METAL_RESERVE_PLAN</td>\n",
       "      <td>SMS</td>\n",
       "      <td>SENT</td>\n",
       "      <td>4703</td>\n",
       "      <td>2018-10-14 01:48:13.319987</td>\n",
       "    </tr>\n",
       "    <tr>\n",
       "      <th>1</th>\n",
       "      <td>METAL_RESERVE_PLAN</td>\n",
       "      <td>SMS</td>\n",
       "      <td>SENT</td>\n",
       "      <td>2397</td>\n",
       "      <td>2018-10-17 08:07:05.709072</td>\n",
       "    </tr>\n",
       "    <tr>\n",
       "      <th>2</th>\n",
       "      <td>METAL_RESERVE_PLAN</td>\n",
       "      <td>SMS</td>\n",
       "      <td>SENT</td>\n",
       "      <td>2411</td>\n",
       "      <td>2018-10-14 03:46:34.244392</td>\n",
       "    </tr>\n",
       "    <tr>\n",
       "      <th>3</th>\n",
       "      <td>METAL_RESERVE_PLAN</td>\n",
       "      <td>SMS</td>\n",
       "      <td>SENT</td>\n",
       "      <td>1119</td>\n",
       "      <td>2018-10-14 14:16:35.801185</td>\n",
       "    </tr>\n",
       "    <tr>\n",
       "      <th>4</th>\n",
       "      <td>METAL_RESERVE_PLAN</td>\n",
       "      <td>SMS</td>\n",
       "      <td>SENT</td>\n",
       "      <td>3499</td>\n",
       "      <td>2018-10-14 18:41:09.268675</td>\n",
       "    </tr>\n",
       "  </tbody>\n",
       "</table>\n",
       "</div>"
      ],
      "text/plain": [
       "               reason channel status  user_id               created_date\n",
       "0  METAL_RESERVE_PLAN     SMS   SENT     4703 2018-10-14 01:48:13.319987\n",
       "1  METAL_RESERVE_PLAN     SMS   SENT     2397 2018-10-17 08:07:05.709072\n",
       "2  METAL_RESERVE_PLAN     SMS   SENT     2411 2018-10-14 03:46:34.244392\n",
       "3  METAL_RESERVE_PLAN     SMS   SENT     1119 2018-10-14 14:16:35.801185\n",
       "4  METAL_RESERVE_PLAN     SMS   SENT     3499 2018-10-14 18:41:09.268675"
      ]
     },
     "execution_count": 150,
     "metadata": {},
     "output_type": "execute_result"
    }
   ],
   "source": [
    "notifs.head()"
   ]
  },
  {
   "cell_type": "code",
   "execution_count": null,
   "id": "ef666499",
   "metadata": {},
   "outputs": [
    {
     "data": {
      "text/html": [
       "<div>\n",
       "<style scoped>\n",
       "    .dataframe tbody tr th:only-of-type {\n",
       "        vertical-align: middle;\n",
       "    }\n",
       "\n",
       "    .dataframe tbody tr th {\n",
       "        vertical-align: top;\n",
       "    }\n",
       "\n",
       "    .dataframe thead th {\n",
       "        text-align: right;\n",
       "    }\n",
       "</style>\n",
       "<table border=\"1\" class=\"dataframe\">\n",
       "  <thead>\n",
       "    <tr style=\"text-align: right;\">\n",
       "      <th></th>\n",
       "      <th>user_id</th>\n",
       "      <th>birth_year</th>\n",
       "      <th>country</th>\n",
       "      <th>created_date</th>\n",
       "      <th>user_settings_crypto_unlocked</th>\n",
       "      <th>plan</th>\n",
       "      <th>attributes_notifications_marketing_push</th>\n",
       "      <th>attributes_notifications_marketing_email</th>\n",
       "      <th>num_contacts</th>\n",
       "    </tr>\n",
       "  </thead>\n",
       "  <tbody>\n",
       "    <tr>\n",
       "      <th>0</th>\n",
       "      <td>2811</td>\n",
       "      <td>1988</td>\n",
       "      <td>IE</td>\n",
       "      <td>2018-03-04 21:46:39.616834</td>\n",
       "      <td>False</td>\n",
       "      <td>STANDARD</td>\n",
       "      <td>&lt;NA&gt;</td>\n",
       "      <td>&lt;NA&gt;</td>\n",
       "      <td>0</td>\n",
       "    </tr>\n",
       "    <tr>\n",
       "      <th>1</th>\n",
       "      <td>4750</td>\n",
       "      <td>1987</td>\n",
       "      <td>FR</td>\n",
       "      <td>2018-04-07 06:49:18.345736</td>\n",
       "      <td>False</td>\n",
       "      <td>STANDARD</td>\n",
       "      <td>&lt;NA&gt;</td>\n",
       "      <td>&lt;NA&gt;</td>\n",
       "      <td>0</td>\n",
       "    </tr>\n",
       "    <tr>\n",
       "      <th>2</th>\n",
       "      <td>17686</td>\n",
       "      <td>1984</td>\n",
       "      <td>GB</td>\n",
       "      <td>2018-12-04 10:28:02.653147</td>\n",
       "      <td>False</td>\n",
       "      <td>PREMIUM</td>\n",
       "      <td>&lt;NA&gt;</td>\n",
       "      <td>&lt;NA&gt;</td>\n",
       "      <td>6</td>\n",
       "    </tr>\n",
       "    <tr>\n",
       "      <th>3</th>\n",
       "      <td>18779</td>\n",
       "      <td>1965</td>\n",
       "      <td>GB</td>\n",
       "      <td>2018-12-31 07:42:19.353613</td>\n",
       "      <td>False</td>\n",
       "      <td>STANDARD</td>\n",
       "      <td>&lt;NA&gt;</td>\n",
       "      <td>&lt;NA&gt;</td>\n",
       "      <td>0</td>\n",
       "    </tr>\n",
       "    <tr>\n",
       "      <th>4</th>\n",
       "      <td>7823</td>\n",
       "      <td>1999</td>\n",
       "      <td>PL</td>\n",
       "      <td>2018-06-07 03:22:40.590209</td>\n",
       "      <td>False</td>\n",
       "      <td>STANDARD</td>\n",
       "      <td>&lt;NA&gt;</td>\n",
       "      <td>&lt;NA&gt;</td>\n",
       "      <td>0</td>\n",
       "    </tr>\n",
       "  </tbody>\n",
       "</table>\n",
       "</div>"
      ],
      "text/plain": [
       "   user_id  birth_year country               created_date  \\\n",
       "0     2811        1988      IE 2018-03-04 21:46:39.616834   \n",
       "1     4750        1987      FR 2018-04-07 06:49:18.345736   \n",
       "2    17686        1984      GB 2018-12-04 10:28:02.653147   \n",
       "3    18779        1965      GB 2018-12-31 07:42:19.353613   \n",
       "4     7823        1999      PL 2018-06-07 03:22:40.590209   \n",
       "\n",
       "   user_settings_crypto_unlocked      plan  \\\n",
       "0                          False  STANDARD   \n",
       "1                          False  STANDARD   \n",
       "2                          False   PREMIUM   \n",
       "3                          False  STANDARD   \n",
       "4                          False  STANDARD   \n",
       "\n",
       "   attributes_notifications_marketing_push  \\\n",
       "0                                     <NA>   \n",
       "1                                     <NA>   \n",
       "2                                     <NA>   \n",
       "3                                     <NA>   \n",
       "4                                     <NA>   \n",
       "\n",
       "   attributes_notifications_marketing_email  num_contacts  \n",
       "0                                      <NA>             0  \n",
       "1                                      <NA>             0  \n",
       "2                                      <NA>             6  \n",
       "3                                      <NA>             0  \n",
       "4                                      <NA>             0  "
      ]
     },
     "execution_count": 151,
     "metadata": {},
     "output_type": "execute_result"
    }
   ],
   "source": [
    "users.head()"
   ]
  },
  {
   "cell_type": "markdown",
   "id": "fb8797ee",
   "metadata": {},
   "source": [
    "# Sending it from Bucket to BigQuery"
   ]
  },
  {
   "cell_type": "code",
   "execution_count": null,
   "id": "cc13d3bb",
   "metadata": {},
   "outputs": [],
   "source": [
    "#terminal commands"
   ]
  },
  {
   "cell_type": "code",
   "execution_count": null,
   "id": "e1c6fe89",
   "metadata": {},
   "outputs": [
    {
     "name": "stdout",
     "output_type": "stream",
     "text": [
      "Updated property [core/project].\n"
     ]
    }
   ],
   "source": [
    "!gcloud config set project sacred-choir-466017-s9\n"
   ]
  },
  {
   "cell_type": "code",
   "execution_count": null,
   "id": "3241d5e4",
   "metadata": {},
   "outputs": [
    {
     "name": "stdout",
     "output_type": "stream",
     "text": [
      "\n",
      "Credentials saved to file: [/home/denizgokalp.5/.config/gcloud/application_default_credentials.json]\n",
      "\n",
      "These credentials will be used by any library that requests Application Default Credentials (ADC).\n",
      "\n",
      "Quota project \"sunny-state-459119-b7\" was added to ADC which can be used by Google client libraries for billing and quota. Note that some services may still bill the project owning the resource.\n"
     ]
    }
   ],
   "source": [
    "!gcloud auth application-default set-quota-project sacred-choir-466017-s9\n"
   ]
  },
  {
   "cell_type": "code",
   "execution_count": null,
   "id": "87edad34",
   "metadata": {},
   "outputs": [
    {
     "name": "stdout",
     "output_type": "stream",
     "text": [
      "Waiting on bqjob_r4f9ca7567226e79_0000019829bd0292_1 ... (1s) Current status: DONE   \n"
     ]
    }
   ],
   "source": [
    "!bq load --source_format=PARQUET \\\n",
    "--replace \\\n",
    "neobank_data_raw.raw_devices \\\n",
    "gs://neobank_data_bucket/data/devices.parquet\n"
   ]
  },
  {
   "cell_type": "code",
   "execution_count": null,
   "id": "5c280e0a",
   "metadata": {},
   "outputs": [
    {
     "name": "stdout",
     "output_type": "stream",
     "text": [
      "Waiting on bqjob_r6456022fe63dfbed_0000019829bd1dd1_1 ... (1s) Current status: DONE   \n"
     ]
    }
   ],
   "source": [
    "!bq load --source_format=PARQUET \\\n",
    "--replace \\\n",
    "neobank_data_raw.raw_users \\\n",
    "gs://neobank_data_bucket/data/users.parquet"
   ]
  },
  {
   "cell_type": "code",
   "execution_count": null,
   "id": "16c75236",
   "metadata": {},
   "outputs": [
    {
     "name": "stdout",
     "output_type": "stream",
     "text": [
      "Waiting on bqjob_r47abe83be96d959e_0000019829bd3b40_1 ... (4s) Current status: DONE   \n"
     ]
    }
   ],
   "source": [
    "!bq load --source_format=PARQUET \\\n",
    "--replace \\\n",
    "neobank_data_raw.raw_transactions \\\n",
    "gs://neobank_data_bucket/data/transactions.parquet"
   ]
  },
  {
   "cell_type": "code",
   "execution_count": null,
   "id": "76ee7538",
   "metadata": {},
   "outputs": [
    {
     "name": "stdout",
     "output_type": "stream",
     "text": [
      "Waiting on bqjob_r29a50782eace1fd4_0000019829bd6116_1 ... (0s) Current status: DONE   \n",
      "BigQuery error in load operation: Error processing job 'sunny-\n",
      "state-459119-b7:bqjob_r29a50782eace1fd4_0000019829bd6116_1': Error while reading\n",
      "data, error message: Invalid timestamp microseconds value 1539481693319987000 of\n",
      "logical type TIMESTAMP_NANOS; in column 'created_date' File:\n",
      "gs://neobank_data_bucket_deniz/data/notifications.parquet\n"
     ]
    }
   ],
   "source": [
    "!bq load --source_format=PARQUET \\\n",
    "--replace \\\n",
    "neobank_data_raw.raw_notifications \\\n",
    "gs://neobank_data_bucket/data/notifications.parquet"
   ]
  }
 ],
 "metadata": {
  "kernelspec": {
   "display_name": "02-upload-py3.12",
   "language": "python",
   "name": "python3"
  },
  "language_info": {
   "codemirror_mode": {
    "name": "ipython",
    "version": 3
   },
   "file_extension": ".py",
   "mimetype": "text/x-python",
   "name": "python",
   "nbconvert_exporter": "python",
   "pygments_lexer": "ipython3",
   "version": "3.12.8"
  }
 },
 "nbformat": 4,
 "nbformat_minor": 5
}
